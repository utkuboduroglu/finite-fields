{
 "cells": [
  {
   "cell_type": "code",
   "execution_count": 1,
   "id": "dce6391f-87bb-417e-89da-40b0cbd61acc",
   "metadata": {},
   "outputs": [],
   "source": [
    "def extensiveGCD(x, y):\n",
    "    if x < y:\n",
    "        x, y = y, x\n",
    "    div = lambda x, y: (x//y, x%y)\n",
    "    factors = []\n",
    "\n",
    "    # this is totally unnecessary, it just felt appropriate to relabel\n",
    "    # the variables in a form similar to the DA: n = pq + r\n",
    "    n, q = x, y\n",
    "\n",
    "    while q > 0:\n",
    "        fac, rem = div(n, q)\n",
    "        factors.append(fac)\n",
    "        n = q\n",
    "        q = rem\n",
    "\n",
    "    # we throw out the last factor as we do not need it for divisibility\n",
    "    factors = factors[::-1][1:]\n",
    "\n",
    "    return n, factors\n",
    "    "
   ]
  },
  {
   "cell_type": "code",
   "execution_count": 2,
   "id": "352bc5e6-8646-4eb6-8d50-abb612e9584d",
   "metadata": {},
   "outputs": [],
   "source": [
    "def pairBezout(x, y):\n",
    "    coef = lambda P, c: (P[1], P[0] - P[1] * c)\n",
    "    maxSorted = x < y\n",
    "    d, factors = extensiveGCD(x, y)\n",
    "\n",
    "    bezout = (0, 1)\n",
    "    for fac in factors:\n",
    "        bezout = coef(bezout, fac)\n",
    "\n",
    "    if maxSorted:\n",
    "        bezout = (bezout[1], bezout[0])\n",
    "\n",
    "    return bezout\n",
    "\n",
    "def testValidBezout(x, y):\n",
    "    d, _ = extensiveGCD(x, y)\n",
    "    p, q = pairBezout(x, y)\n",
    "    left = (p == 0) or (p * x % y == d)\n",
    "    right = (q == 0) or (q * y % x == d)\n",
    "    return all([left, right])\n"
   ]
  },
  {
   "cell_type": "code",
   "execution_count": 3,
   "id": "901fdc97-60e0-4070-810f-779951836067",
   "metadata": {},
   "outputs": [],
   "source": [
    "def is_prime(n):\n",
    "    from math import sqrt, ceil\n",
    "    # we only need to check whether primes up to faclimit divide n, as some\n",
    "    # factor needs to be smaller than faclimit (can be proven by\n",
    "    # contradiction!) in fact, we can check whether any number in this range\n",
    "    # divides n: this is way more expensive but for small numbers we don't have\n",
    "    # to worry about finding primes inside the range \n",
    "    faclimit = ceil(sqrt(n))\n",
    "\n",
    "    # we can divide the search in half just by testing for 2 and\n",
    "    # limiting ourselves to odd primes\n",
    "    if n % 2 == 0:\n",
    "        return False\n",
    "    for q in range(3, faclimit + 1, 2):\n",
    "        if n % q == 0:\n",
    "            return False\n",
    "\n",
    "    return True\n",
    "\n",
    "# find the closest prime sitting on top of low_seed\n",
    "def generatePrime(low_seed):\n",
    "    candidate = low_seed\n",
    "    while True:\n",
    "        if is_prime(candidate):\n",
    "            return candidate\n",
    "        else:\n",
    "            candidate += 1"
   ]
  },
  {
   "cell_type": "code",
   "execution_count": 4,
   "id": "791246b3-9c5b-45f5-aa57-ca2e64cd9b31",
   "metadata": {},
   "outputs": [],
   "source": [
    "class FiniteIntegerRing:\n",
    "    def __init__(self, n):\n",
    "        if n == 0:\n",
    "            raise ValueError(\"Do not specify 0! Use normal operations instead!\")\n",
    "        elif n < 0:\n",
    "            n = -n\n",
    "\n",
    "        self._n = n\n",
    "    \n",
    "    def add(self, a, b):\n",
    "        return (a + b) % self._n\n",
    "\n",
    "    def sub(self, a, b):\n",
    "        return self.add(a, -b)\n",
    "\n",
    "    def id(self, a):\n",
    "        return self.add(a, 0)\n",
    "\n",
    "    def add_inv(self, a):\n",
    "        return self.sub(0, a)\n",
    "\n",
    "    def mult(self, a, b):\n",
    "        return (a * b) % self._n\n",
    "\n",
    "    def pow(self, b, e):\n",
    "        c = 1\n",
    "        for f in range(e):\n",
    "            f += 1\n",
    "            c = self.mult(b, c)\n",
    "        return c\n",
    "\n",
    "class FiniteField(FiniteIntegerRing):\n",
    "    def __init__(self, p):\n",
    "        if not is_prime(p):\n",
    "            raise ValueError(\"Specified value {} should be prime!\".format(p))\n",
    "        self._n = p\n",
    "        \n",
    "        self._cached = False\n",
    "        if (p < 1000):\n",
    "            self._cached = True\n",
    "            # there's nothing inherently special about any one instance\n",
    "            # of this class, i.e. p = q implies FiniteField(p) = FiniteField(q),\n",
    "            # so it's fine to just cache the multiplicative inverses\n",
    "            self._mult_inv_cache = [-1]\n",
    "            for x in range(1, p+1):\n",
    "                b, _ = pairBezout(x, self._n)\n",
    "                self._mult_inv_cache.append(self.add(b, 0))\n",
    "\n",
    "    def mult_inv(self, a):\n",
    "        if a == 0:\n",
    "            raise ZeroDivisionError\n",
    "\n",
    "        if self._cached:\n",
    "            # we cached the results!\n",
    "            return self._mult_inv_cache[self.id(a)]\n",
    "        else:\n",
    "            b, _ = pairBezout(a, self._n)\n",
    "            return self.add(b, 0)\n",
    "\n",
    "    def div(self, a, b):\n",
    "        return self.mult(a, self.mult_inv(b))\n"
   ]
  },
  {
   "cell_type": "markdown",
   "id": "5480093f-2e7d-46ce-a699-a323d910b0ca",
   "metadata": {},
   "source": [
    "Sections about the Chinese Remainder theorem and Euler Totient function? (maybe also its relation to RSA?)\n",
    "\n",
    "Also some good-ol' group theory & ring theory!\n",
    "\n",
    "How about Mersenne primes as a bit of trivia?"
   ]
  },
  {
   "cell_type": "code",
   "execution_count": 5,
   "id": "4d315d04-1d6d-40f8-8ae8-8700be86aa14",
   "metadata": {},
   "outputs": [
    {
     "name": "stdout",
     "output_type": "stream",
     "text": [
      "790393 977 809\n"
     ]
    }
   ],
   "source": [
    "from numpy.random import randint\n",
    "p = generatePrime(randint(2**9, 2**10))\n",
    "q = generatePrime(randint(2**9, 2**10))\n",
    "\n",
    "# though ensure p != q\n",
    "n = p*q\n",
    "print(n, p, q)"
   ]
  },
  {
   "cell_type": "code",
   "execution_count": 6,
   "id": "6841f194-6751-4ee8-93cc-761f3d7d8481",
   "metadata": {},
   "outputs": [
    {
     "name": "stdout",
     "output_type": "stream",
     "text": [
      "98576\n"
     ]
    }
   ],
   "source": [
    "lcm = lambda a,b: a*b//extensiveGCD(a, b)[0]\n",
    "car_tot = lambda p, q: lcm(p-1, q-1)\n",
    "\n",
    "lam = car_tot(p, q)\n",
    "print(lam)"
   ]
  },
  {
   "cell_type": "markdown",
   "id": "250b4f80-989a-4249-a8ae-4a04c6181ab9",
   "metadata": {},
   "source": [
    "As a result, we have the public key $(n, e)$ and the private key $(n, d)$, which satisfies\n",
    "$$\n",
    "m^{ed} \\equiv m \\mod n\n",
    "$$"
   ]
  },
  {
   "cell_type": "markdown",
   "id": "7c206777-1f4e-4950-a93a-c0693a450442",
   "metadata": {},
   "source": [
    "## Chinese remainder to the rescue!"
   ]
  },
  {
   "cell_type": "code",
   "execution_count": 10,
   "id": "beeeeaa0-624a-4a2d-876f-402805bdc672",
   "metadata": {},
   "outputs": [],
   "source": [
    "class RSAKey:\n",
    "    def __init__(self, n, e):\n",
    "        self._n = n\n",
    "        self._key = e\n",
    "\n",
    "        self._ring = FiniteIntegerRing(n)\n",
    "\n",
    "    def encrypt(self, message):\n",
    "        return self._ring.pow(message, self._key)\n",
    "\n",
    "class RSASecretKey(RSAKey):\n",
    "    def __init__(self, n, d, p, q):\n",
    "        RSAKey.__init__(self, n, d)\n",
    "        self._p = p\n",
    "        self._q = q\n",
    "\n",
    "        self._dp = d % (p - 1)\n",
    "        self._dq = d % (q - 1)\n",
    "        \n",
    "        self._fp = FiniteField(p)\n",
    "        self._fq = FiniteField(q)\n",
    "\n",
    "    def decrypt(self, ciphertext):\n",
    "        m1 = self._fp.pow(ciphertext, self._dp)\n",
    "        m2 = self._fq.pow(ciphertext, self._dq)\n",
    "        h = self._fp.mult(self._fp.mult_inv(self._q), m1 - m2)\n",
    "\n",
    "        return m2 + h * q"
   ]
  },
  {
   "cell_type": "code",
   "execution_count": 22,
   "id": "81135fd5-6e09-4a84-9d6e-a1b8e4089b37",
   "metadata": {},
   "outputs": [],
   "source": [
    "def generateRSAKeyPair(p, q) -> (RSAKey, RSASecretKey):\n",
    "    from math import lcm, gcd\n",
    "    from numpy.random import choice\n",
    "    n = p * q\n",
    "    totient = lcm(p-1, q-1)\n",
    "\n",
    "    coprimes = [x for x in range(2, totient)\n",
    "                if gcd(x, totient) == 1]\n",
    "\n",
    "    e = choice(coprimes)\n",
    "    d, _ = pairBezout(e, totient)\n",
    "    # getting rid of the negative\n",
    "    d = d + totient\n",
    "\n",
    "    pub = RSAKey(n, e)\n",
    "    sec = RSASecretKey(n, d, p, q)\n",
    "    return (pub, sec)"
   ]
  },
  {
   "cell_type": "markdown",
   "id": "f63f6433-402b-4ef9-a603-cb5d07f80a7a",
   "metadata": {},
   "source": [
    "Let's encrypt a message and send it to ourselves :)"
   ]
  },
  {
   "cell_type": "code",
   "execution_count": 23,
   "id": "f3f8b5d1-4cfb-4473-ab5c-884c6c138f66",
   "metadata": {},
   "outputs": [
    {
     "name": "stdout",
     "output_type": "stream",
     "text": [
      "1361 1531\n"
     ]
    }
   ],
   "source": [
    "from numpy.random import randint\n",
    "p = generatePrime(randint(2**10, 2**11))\n",
    "q = generatePrime(randint(2**10, 2**11))\n",
    "print(p, q)\n",
    "\n",
    "pub, sec = generateRSAKeyPair(p, q)"
   ]
  },
  {
   "cell_type": "code",
   "execution_count": 26,
   "id": "22a1c8ce-a167-49fc-adc9-1af1bc6d7f8f",
   "metadata": {},
   "outputs": [
    {
     "name": "stdout",
     "output_type": "stream",
     "text": [
      "0x13eb14\n"
     ]
    }
   ],
   "source": [
    "message = 0xbeef\n",
    "ciphertext = pub.encrypt(message)\n",
    "print(hex(ciphertext))"
   ]
  },
  {
   "cell_type": "code",
   "execution_count": 28,
   "id": "4d863a17-670c-4f8f-846b-54d006526684",
   "metadata": {},
   "outputs": [
    {
     "name": "stdout",
     "output_type": "stream",
     "text": [
      "0xbeef\n"
     ]
    }
   ],
   "source": [
    "decrypted_message = sec.decrypt(ciphertext)\n",
    "print(hex(decrypted_message))"
   ]
  }
 ],
 "metadata": {
  "kernelspec": {
   "display_name": "Python 3 (ipykernel)",
   "language": "python",
   "name": "python3"
  },
  "language_info": {
   "codemirror_mode": {
    "name": "ipython",
    "version": 3
   },
   "file_extension": ".py",
   "mimetype": "text/x-python",
   "name": "python",
   "nbconvert_exporter": "python",
   "pygments_lexer": "ipython3",
   "version": "3.12.4"
  }
 },
 "nbformat": 4,
 "nbformat_minor": 5
}
