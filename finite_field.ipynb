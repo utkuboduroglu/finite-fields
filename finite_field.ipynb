{
 "cells": [
  {
   "cell_type": "code",
   "execution_count": 12,
   "id": "dce6391f-87bb-417e-89da-40b0cbd61acc",
   "metadata": {},
   "outputs": [],
   "source": [
    "def extensiveGCD(x, y):\n",
    "    if x < y:\n",
    "        x, y = y, x\n",
    "    div = lambda x, y: (x//y, x%y)\n",
    "    factors = []\n",
    "\n",
    "    # this is totally unnecessary, it just felt appropriate to relabel\n",
    "    # the variables in a form similar to the DA: n = pq + r\n",
    "    n, q = x, y\n",
    "\n",
    "    while q > 0:\n",
    "        fac, rem = div(n, q)\n",
    "        factors.append(fac)\n",
    "        n = q\n",
    "        q = rem\n",
    "\n",
    "    # we throw out the last factor as we do not need it for divisibility\n",
    "    factors = factors[::-1][1:]\n",
    "\n",
    "    return n, factors\n",
    "    "
   ]
  },
  {
   "cell_type": "code",
   "execution_count": 9,
   "id": "352bc5e6-8646-4eb6-8d50-abb612e9584d",
   "metadata": {},
   "outputs": [],
   "source": [
    "def pairBezout(x, y):\n",
    "    coef = lambda P, c: (P[1], P[0] - P[1] * c)\n",
    "    maxSorted = x < y\n",
    "    d, factors = extensiveGCD(x, y)\n",
    "\n",
    "    bezout = (0, 1)\n",
    "    for fac in factors:\n",
    "        bezout = coef(bezout, fac)\n",
    "\n",
    "    if maxSorted:\n",
    "        bezout = (bezout[1], bezout[0])\n",
    "\n",
    "    return bezout\n",
    "\n",
    "def testValidBezout(x, y):\n",
    "    d, _ = extensiveGCD(x, y)\n",
    "    p, q = pairBezout(x, y)\n",
    "    left = (p == 0) or (p * x % y == d)\n",
    "    right = (q == 0) or (q * y % x == d)\n",
    "    return all([left, right])\n"
   ]
  },
  {
   "cell_type": "code",
   "execution_count": 10,
   "id": "791246b3-9c5b-45f5-aa57-ca2e64cd9b31",
   "metadata": {},
   "outputs": [],
   "source": [
    "def is_prime(n):\n",
    "    from math import sqrt, ceil\n",
    "    # we only need to check whether primes up to faclimit divide n, as some\n",
    "    # factor needs to be smaller than faclimit (can be proven by\n",
    "    # contradiction!) in fact, we can check whether any number in this range\n",
    "    # divides n: this is way more expensive but for small numbers we don't have\n",
    "    # to worry about finding primes inside the range \n",
    "    faclimit = ceil(sqrt(n))\n",
    "\n",
    "    for q in range(2, faclimit + 1):\n",
    "        if n % q == 0:\n",
    "            return False\n",
    "\n",
    "    return True\n",
    "    \n",
    "class FiniteField:\n",
    "    def __init__(self, p):\n",
    "        if not is_prime(p):\n",
    "            raise ValueError(\"Specified value {} should be prime!\".format(p))\n",
    "        self._p = p\n",
    "\n",
    "    def add(self, a, b):\n",
    "        return (a + b) % self._p\n",
    "\n",
    "    def sub(self, a, b):\n",
    "        return self.add(a, -b)\n",
    "\n",
    "    def add_inv(self, a):\n",
    "        return self.sub(0, a)\n",
    "\n",
    "    def mult(self, a, b):\n",
    "        return (a * b) % self._p\n",
    "\n",
    "    def mult_inv(self, a):\n",
    "        if a == 0:\n",
    "            raise ZeroDivisionError\n",
    "        b, _ = pairBezout(a, self._p)\n",
    "        return self.add(b, 0)\n",
    "\n",
    "    def div(self, a, b):\n",
    "        return self.mult(a, self.mult_inv(b))\n"
   ]
  },
  {
   "cell_type": "markdown",
   "id": "5480093f-2e7d-46ce-a699-a323d910b0ca",
   "metadata": {},
   "source": [
    "Sections about the Chinese Remainder theorem and Euler Totient function? (maybe also its relation to RSA?)\n",
    "\n",
    "Also some good-ol' group theory & ring theory!\n",
    "\n",
    "How about Mersenne primes as a bit of trivia?"
   ]
  },
  {
   "cell_type": "code",
   "execution_count": null,
   "id": "7f048bfd-eb23-4aad-9a0a-d52d720e6e28",
   "metadata": {},
   "outputs": [],
   "source": []
  }
 ],
 "metadata": {
  "kernelspec": {
   "display_name": "Python 3 (ipykernel)",
   "language": "python",
   "name": "python3"
  },
  "language_info": {
   "codemirror_mode": {
    "name": "ipython",
    "version": 3
   },
   "file_extension": ".py",
   "mimetype": "text/x-python",
   "name": "python",
   "nbconvert_exporter": "python",
   "pygments_lexer": "ipython3",
   "version": "3.12.4"
  }
 },
 "nbformat": 4,
 "nbformat_minor": 5
}
