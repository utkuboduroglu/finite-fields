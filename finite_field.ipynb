{
 "cells": [
  {
   "cell_type": "markdown",
   "id": "37b94519-c921-4b34-b970-bd24458c375b",
   "metadata": {},
   "source": [
    "# Modular arithmetic"
   ]
  },
  {
   "cell_type": "markdown",
   "id": "64463b74-756d-46cd-996c-8def6c8e8bbc",
   "metadata": {},
   "source": [
    "## The greatest common divisor of two integers\n",
    "\n",
    "An integer $k$ is said to divide another $n$ (written $k\\mid n$) if there is some third integer $m$ such that $n = km$. A great property of the integers is that for any two integers $a, b$, there is some number $d$ called the greatest common divisor of $a$ and $b$ that divides both $d\\mid a$ and $d\\mid b$, as well as for any other $e$ with $e\\mid a$ and $e\\mid b$, we have $e\\mid d$; this is what we mean by the \"greatest\" common divisor: any common divisor of $a$ and $b$ must also divide $d$.\n",
    "\n",
    "Although the definition seems terse and convoluted, there is a very simple way of computing the greatest common divisor of two numbers! It is no complicated than the \"long division\" you've used all your life, it just extends the observations made about division a bit further."
   ]
  },
  {
   "cell_type": "markdown",
   "id": "46475b1c-bfbb-468c-b3c7-76e43adccff4",
   "metadata": {},
   "source": [
    "### The Division algorithm and computing GCDs\n",
    "\n",
    "The standard way of performing long division has a special name, the \"Euclidean Division algorithm\", and it is a way of obtaining the following result:\n",
    "\n",
    ">**Theorem**: Given two integers $a, b$ with $b \\neq 0$, there are unique (!) integers $q$ and $r$, with $0 \\leq r < |b|$, such that\n",
    "$$\n",
    "a = qb + r\n",
    "$$\n",
    "\n",
    "Then, note for any $a$ and $b$, any common divisor $d$ of $a$ and $b$ also necessarily divides $r$, as $a - qb = r$ and $d\\mid a, d\\mid b$. Furthermore, since $d\\mid b$ and $d\\mid r$, we further observe $d\\mid \\gcd(b, r)$.\n",
    "Then, we can keep repeating this process:\n",
    "$$\n",
    "\\begin{align}\n",
    "a &= q_1b + r_1\\\\\n",
    "b &= q_2r_1 + r_2\\\\\n",
    "r_1 &= q_3r_2 + r_3\\\\\n",
    "\\dots\n",
    "\\end{align}\n",
    "$$\n",
    "\n",
    "### ... ad infinitum?\n",
    "Although there's a formal proof on why this terminates, you don't need a mathematical proof to justify yourself that 1 is a common divisor of every pair of numbers, and so this process stops at some point, i.e., we get that for some $r_n$\n",
    "$$\n",
    "r_{n-1} = q_{n-3}r_{n} + 0\n",
    "$$\n",
    "and $r_n$ is the greatest common divisor of $r_n$ and $q_{n-3}r_n$. Notice that since every common divisor of $a$ and $b$ was a common divisor of $r_k$ and $r_{k+1}$, every common divisor of $a$ and $b$ divides $r_n$, and $r_n$ is also a common divisor of $a$ and $b$. In other words, we have obtained a recursive algorithm for computing the greatest common divisor of two numbers!"
   ]
  },
  {
   "cell_type": "code",
   "execution_count": 1,
   "id": "dce6391f-87bb-417e-89da-40b0cbd61acc",
   "metadata": {},
   "outputs": [],
   "source": [
    "def extendedGCD(x, y):\n",
    "    if x < y:\n",
    "        x, y = y, x\n",
    "    div = lambda x, y: (x//y, x%y)\n",
    "    factors = []\n",
    "\n",
    "    # this is totally unnecessary, it just felt appropriate to relabel\n",
    "    # the variables in a form similar to the DA: n = pq + r\n",
    "    n, q = x, y\n",
    "\n",
    "    while q > 0:\n",
    "        fac, rem = div(n, q)\n",
    "        factors.append(fac)\n",
    "        n = q\n",
    "        q = rem\n",
    "\n",
    "    return n, factors\n",
    "    "
   ]
  },
  {
   "cell_type": "markdown",
   "id": "213e49bc-fc2a-425e-b191-946ec7c3e454",
   "metadata": {},
   "source": [
    "## The \"ring\"? of modular arithmetic\n",
    "For some positive $n$, the integers modulo $n$ form what's called a _ring_, a mathematical abstraction specifically conceived to capture addition and multiplication together. We provide a friendly version of it here:\n",
    "\n",
    ">**Definition**: A ring is a tuple $(R, +, \\cdot, 0, 1)$, where $R$ is a set, $0\\neq 1 \\in R$ special elements, and $+:R\\times R\\to R$ and $\\cdot: R\\times R \\to R$ functions, which satisfy the following:\n",
    ">1. **Zero is the identity for addition**: For every $r\\in R$, $r + 0 = r = 0 + r$\n",
    ">1. **Addition is associative**: For every $r, s, t\\in R$, $(r + s) + t = r + (s + t)$\n",
    ">1. **Multiplication distributes over addition**: For every $r, s, t\\in R$, $(r + s) \\cdot t = rt + st$ and $t \\cdot (r + s) = tr + ts$\n",
    ">1. **Addition is commutative**: For every $r, s\\in R$, $r + s = s + r$\n",
    ">1. **_Multiplication is commutative_**\\*: For every $r, s\\in R$, $rs = sr$\n",
    ">1. **_One is the identity for multiplication_**\\*: For every $r\\in R$, $r \\cdot 1 = r = 1 \\cdot r$\n",
    "\n",
    "We use the notation $a + b = +(a, b)$ and $ab = a\\cdot b = \\cdot(a, b)$ for readability.\n",
    "\n",
    "Some examples of rings include $\\mathbb Z, \\mathbb Q, \\mathbb R, \\mathbb C$ with the usual addition and multiplication and $\\mathbb Z /n$ with the modulo addition and multiplication. If we were to relax some of the conditions (like commutativity or the existence of the element 1, we can get more examples, like the set of all square matrices with normal addition and matrix multiplication)\n",
    "\n",
    "Technically speaking, with integer arithmetic and floating-point arithmetic already implemented in computers, you implicitly work with the rings $\\mathbb Z$ and $\\mathbb Q$ already without realizing it! We can go a step further and provide a basic implementation for $\\mathbb Z /n$ as well:"
   ]
  },
  {
   "cell_type": "code",
   "execution_count": 2,
   "id": "db311ddd-aa6a-4899-a129-7563851916eb",
   "metadata": {},
   "outputs": [],
   "source": [
    "class FiniteIntegerRing:\n",
    "    def __init__(self, n):\n",
    "        if n == 0:\n",
    "            raise ValueError(\"Do not specify 0! Use normal operations instead!\")\n",
    "        elif n < 0:\n",
    "            n = -n\n",
    "\n",
    "        self._n = n\n",
    "    \n",
    "    def add(self, a, b):\n",
    "        return (a + b) % self._n\n",
    "\n",
    "    def sub(self, a, b):\n",
    "        return self.add(a, -b)\n",
    "\n",
    "    def id(self, a):\n",
    "        return self.add(a, 0)\n",
    "\n",
    "    def add_inv(self, a):\n",
    "        return self.add(-a, 0)\n",
    "\n",
    "    def mult(self, a, b):\n",
    "        return (a * b) % self._n\n",
    "\n",
    "    # Note that every ring has repeated multiplication, but in\n",
    "    # the case of the integers, we can also think of it as exponentiation!\n",
    "    def pow(self, b, e):\n",
    "        c = 1\n",
    "        for f in range(e):\n",
    "            f += 1\n",
    "            c = self.mult(b, c)\n",
    "        return c\n",
    "        "
   ]
  },
  {
   "cell_type": "markdown",
   "id": "4323bb90-cd77-460b-a6bd-87b65c27bf77",
   "metadata": {},
   "source": [
    "### Modular inverses\n",
    "If you play around enough with various different rings $\\mathbb Z /n$, you can see that $3\\cdot 5 \\equiv 1 \\mod 7$, or $3\\cdot 11 \\equiv 1 \\mod 16$, or $66\\cdot 102 \\equiv 1 \\mod 127$ if you're really into playing around with numbers :o\n",
    "\n",
    "So, just motivated by algebraic curiosity for now, for a given $x$, how can we find $a$ such that $ax \\equiv 1 \\mod n$ for n? In a more simplified language, how can we find inverses for elements in modular rings? Spend some time to answer this question.\n",
    "\n",
    "**Hint**: Spend some time considering what's in common with the examples above, and also try solving the following:\n",
    "\n",
    "1. What is the multiplicative inverse of $5$ in $\\mathbb Z / 11$?\n",
    "1. What is the multiplicative inverse of $5$ in $\\mathbb Z / 10$?\n",
    "1. More generally, when does an integer $k$ satisfy $k \\equiv 0 \\mod n$?"
   ]
  },
  {
   "cell_type": "markdown",
   "id": "e0f452e5-e5c8-4095-b75d-264b652fe995",
   "metadata": {},
   "source": [
    "### Answers\n",
    "\n",
    "1. $9\\cdot 5 \\equiv 44 + 1 \\equiv 1 \\mod 11$\n",
    "1. If there were some inverse $a$ of $5$, then $5a \\equiv 1 \\mod 10$ would also result in\n",
    "$$\n",
    "2 \\equiv 2\\cdot 1 \\equiv 2\\cdot 5a \\equiv 10a \\equiv 0 \\mod 10\n",
    "$$\n",
    "even though 10 does not divide 2, giving a contradiction.\n",
    "1. Note that this question was just to entice a reaction after question 2; $k \\equiv 0 \\mod n$ exactly means $n \\mid k$."
   ]
  },
  {
   "cell_type": "markdown",
   "id": "17b6b300-af1d-464b-96d4-35dd4d601d5f",
   "metadata": {
    "jp-MarkdownHeadingCollapsed": true
   },
   "source": [
    "\n",
    "Now, it seems that not every number gets to have an inverse all the time. It seems that for $x$ to have an inverse in $\\mathbb Z /n$, it needs to satisfy\n",
    "$$\n",
    "\\begin{align*}\n",
    "ax \\equiv 1 \\mod n \\iff ax - 1 \\equiv 0 \\mod n\\\\\n",
    "\\text{Which also means}\\ n \\mid ax - 1 \\iff ax - 1 = -bn \\iff ax + bn = 1\n",
    "\\end{align*}\n",
    "$$\n",
    "Now then, notice that it is also sufficient that there be integers $a, b$ that satisfy this relation, as\n",
    "$$\n",
    "1 \\equiv ax + bn \\equiv ax \\mod n\n",
    "$$\n",
    "Then, the problem reduces to finding two integers $a, b$ that satisfy the equation of that form. But what exactly does that equation tell us?"
   ]
  },
  {
   "cell_type": "markdown",
   "id": "6f368b61-2161-4b08-aeca-1c3f2f2faaed",
   "metadata": {},
   "source": [
    "## The Bézout identity\n",
    "For such integers $x$ and $n$, the Bézout identity is of the form $ax + bn = d$ for integers $a, b, d$. You can immediately make the observation that any common divisor of $x$ and $n$ necessarily divides $d$. The fascinating result that we can obtain is that there exists unique $s$ and $t$ such that the following also holds:\n",
    "$$\n",
    "sx + tn = \\gcd(x, n)\n",
    "$$\n",
    "We have seen a bit of the proof already in [computing the GCD through the division algorithm](#the-division-algorithm-and-computing-gcds), namely the fact that we can obtain the gcd through repeated application of the division algorithm\n",
    "$$\n",
    "\\begin{align}\n",
    "a &= q_1b + r_1\\\\\n",
    "b &= q_2r_1 + r_2\\\\\n",
    "r_1 &= q_3r_2 + r_3\\\\\n",
    "&\\dots\\\\\n",
    "r_{n-1} &= q_{n+1}r_n + 0\n",
    "\\end{align}\n",
    "$$\n",
    "Now, notice that each line can be rewritten as follows (we also rename $a := r_{-1}$ and $b := r_0$)\n",
    "$$\n",
    "\\begin{align}\n",
    "r_{-1} - q_1r_0 &= r_1\\\\\n",
    "r_0 - q_2r_1 &= r_2\\\\\n",
    "r_1 - q_3r_2 &= r_3\\\\\n",
    "&\\dots\\\\\n",
    "r_{n-2} - q_nr_{n-1} &= r_n = \\gcd(a, b)\\\\\n",
    "r_{n-1} - q_{n+1}r_n &= 0\n",
    "\\end{align}\n",
    "$$\n",
    "The proof now boils down to a simple proof by induction: we claim that for every $k = -1, \\dots, n-2$, we can form the expression $\\lambda r_{k} + \\gamma r_{k+1} = \\gcd(a,b)$ for some integers $\\lambda, \\gamma$.\n",
    "\n",
    "For $k = n-2$, this is obvious.\n",
    "\n",
    "Suppose it holds for $k$; then, notice that we can make the rewrite\n",
    "$$\n",
    "\\begin{align}\n",
    "\\lambda r_k &+ \\gamma r_{k+1} = \\gcd(a,b)\\\\\n",
    "\\lambda r_k &+ \\gamma (r_{k-1} - q_{k+1}r_k) = \\gcd(a,b)\\\\\n",
    "\\gamma r_{k-1} &+ (\\lambda - q_{k+1})r_k = \\gcd(a,b)\n",
    "\\end{align}\n",
    "$$\n",
    "and we obtain the desired result. One thing to note is that this simplifies the implementation significantly: if we keep track of all the $q_k$s involved in the GCD computation process, we can compute the integer coefficients of the Bézout identity just by applying the transformation\n",
    "$$\n",
    "(\\lambda, \\gamma) \\mapsto (\\gamma, \\lambda - q_k)\n",
    "$$\n",
    "going backwards. (We can start with the expression $0 r_{n+1} + r_n = r_n$, i.e. $(\\lambda, \\gamma) = (0, 1)$.)"
   ]
  },
  {
   "cell_type": "code",
   "execution_count": 3,
   "id": "352bc5e6-8646-4eb6-8d50-abb612e9584d",
   "metadata": {},
   "outputs": [],
   "source": [
    "def pairBezout(x, y):\n",
    "    coef = lambda P, c: (P[1], P[0] - P[1] * c)\n",
    "    maxSorted = x < y\n",
    "    d, factors = extendedGCD(x, y)\n",
    "\n",
    "    # we throw out the last factor as we do not need it for divisibility\n",
    "    factors = factors[::-1][1:]\n",
    "\n",
    "    bezout = (0, 1)\n",
    "    for fac in factors:\n",
    "        bezout = coef(bezout, fac)\n",
    "\n",
    "    if maxSorted:\n",
    "        bezout = (bezout[1], bezout[0])\n",
    "\n",
    "    return bezout\n",
    "\n",
    "def testValidBezout(x, y):\n",
    "    d, _ = extendedGCD(x, y)\n",
    "    p, q = pairBezout(x, y)\n",
    "    left = (p == 0) or (p * x % y == d)\n",
    "    right = (q == 0) or (q * y % x == d)\n",
    "    return all([left, right])\n"
   ]
  },
  {
   "cell_type": "markdown",
   "id": "09e5c4cb-b0c0-462c-9798-e2810d0186d1",
   "metadata": {},
   "source": [
    "We can immediately infer two things:\n",
    "\n",
    "1. $x$ has an inverse in $\\mathbb Z/n$ if and only if $\\gcd (x, n) = 1$, or weakly, for every $y$, there is an $a$ such that $ay \\equiv \\gcd(y, n) \\mod n$,\n",
    "1. Since for every prime number $p$, we have $\\gcd(x, p) = 1$ for $0 \\leq x < p$, every non-zero element of $\\mathbb Z /p$ has an inverse.\n",
    "\n",
    "**Note**: Structures with addition and multiplication defined so that every element has an additive inverse and every non-zero element has a multiplicative inverse, with both operations commutative and multiplication distributive over addition is called a _field_; fields are a natural setting for Linear Algebra!\n",
    "\n",
    "All this note says is that $\\mathbb Z /p$ is a structure that behaves like $\\mathbb Q$, $\\mathbb R$, $\\mathbb C$!"
   ]
  },
  {
   "cell_type": "code",
   "execution_count": 4,
   "id": "901fdc97-60e0-4070-810f-779951836067",
   "metadata": {},
   "outputs": [],
   "source": [
    "def is_prime(n):\n",
    "    from math import sqrt, ceil\n",
    "    # we only need to check whether primes up to faclimit divide n, as some\n",
    "    # factor needs to be smaller than faclimit (can be proven by\n",
    "    # contradiction!) in fact, we can check whether any number in this range\n",
    "    # divides n: this is way more expensive but for small numbers we don't have\n",
    "    # to worry about finding primes inside the range \n",
    "    faclimit = ceil(sqrt(n))\n",
    "\n",
    "    # we can divide the search in half just by testing for 2 and\n",
    "    # limiting ourselves to odd primes\n",
    "    if n == 2:\n",
    "        return True\n",
    "    if n % 2 == 0:\n",
    "        return False\n",
    "    for q in range(3, faclimit + 1, 2):\n",
    "        if n % q == 0:\n",
    "            return False\n",
    "\n",
    "    return True\n",
    "\n",
    "# find the closest prime sitting on top of low_seed\n",
    "def generatePrime(low_seed):\n",
    "    candidate = low_seed\n",
    "    while True:\n",
    "        if is_prime(candidate):\n",
    "            return candidate\n",
    "        else:\n",
    "            candidate += 1"
   ]
  },
  {
   "cell_type": "markdown",
   "id": "8958717d-3e0e-4be9-803c-74d2036ee6b0",
   "metadata": {},
   "source": [
    "Given how every non-zero element in $\\mathbb Z /p$ can have an inverse, we can specialize our rings to fields in the case of prime $p$. Play around with the following definition!"
   ]
  },
  {
   "cell_type": "code",
   "execution_count": 5,
   "id": "791246b3-9c5b-45f5-aa57-ca2e64cd9b31",
   "metadata": {},
   "outputs": [],
   "source": [
    "class FiniteField(FiniteIntegerRing):\n",
    "    def __init__(self, p):\n",
    "        if not is_prime(p):\n",
    "            raise ValueError(\"Specified value {} should be prime!\".format(p))\n",
    "        self._n = p\n",
    "\n",
    "    def mult_inv(self, a):\n",
    "        if a == 0:\n",
    "            raise ZeroDivisionError\n",
    "\n",
    "        b, _ = pairBezout(self.id(a), self._n)\n",
    "        return self.id(b)\n",
    "\n",
    "    def div(self, a, b):\n",
    "        return self.mult(a, self.mult_inv(b))\n"
   ]
  },
  {
   "cell_type": "markdown",
   "id": "97bbd7fe-5ebf-4b18-ad5c-89b35b99555b",
   "metadata": {},
   "source": [
    "# RSA Cryptography"
   ]
  },
  {
   "cell_type": "raw",
   "id": "d654175b-ff41-4349-8bde-5410c299b2b3",
   "metadata": {},
   "source": [
    "How about Mersenne primes as a bit of trivia?\n",
    "https://oeis.org/A000043"
   ]
  },
  {
   "cell_type": "markdown",
   "id": "bccdc722-30d7-4630-a05f-2922b57d0b18",
   "metadata": {},
   "source": [
    "## Euler's Theorem\n",
    "\n",
    ">**Theorem**: For coprime integers $a$ and $n$, $a^{\\varphi(n)} \\equiv 1 \\mod n$.\n",
    "\n",
    "*Proof*: $\\varphi(n)$ denotes the number of integers $0 < x < n$ with $\\gcd(x, n) = 1$, or equivalently, the number of invertible elements in the ring $\\mathbb Z/n$. The set of all invertible elements in $\\mathbb Z/n$ is denoted as ${\\mathbb Z/n}^\\times$. Notice that $1\\in {\\mathbb Z/n}^\\times$ and for any two elements $x, y$ in this set, their product $xy$ is in the set as well.\n",
    "\n",
    "There are only finitely many elements in this set, and so for some $k \\in \\mathbb N$, $a^k \\equiv 1 \\mod n$. There is a smallest such number, and so we can assume that it is $k$.\n",
    "\n",
    "Now, for every $x\\in {\\mathbb Z/n}^\\times$, consider the sets\n",
    "$$\n",
    "xA := \\{ xa^m \\mid m \\in \\mathbb N \\}\n",
    "$$\n",
    "Now, for $x, y \\in {\\mathbb Z/n}^\\times$, either $xA \\cap yA = \\emptyset$ or $xA\\cap yA \\neq \\emptyset$. If the latter holds, for some $g$, we have $g \\equiv xa^m \\equiv ya^l \\mod n$, and so $x \\equiv ya^{l-m} \\mod n$, meaning $xA \\subset yA$, and also $y \\equiv xa^{m-l} \\mod n$, meaning $yA \\subset xA$, and so the only two choices for elements $x, y$ is either $xA \\cap yA = \\emptyset$ or $xA = yA$. Then, the sets $xA$ partition ${\\mathbb Z/n}^\\times$.\n",
    "\n",
    "Finally, for each $xA$, notice that it has exactly $k$ elements: $x1, xa, \\dots, xa^{k-1}$, for if there were any fewer, it implies $xa^m \\equiv xa^l$ for distinct $0 < m \\neq l < k$ and $a^{m-l} \\equiv 1 \\mod n$, which contradicts that $k$ is the smallest such number.\n",
    "\n",
    "Thus, ${\\mathbb Z/n}^\\times$ consists of sets $xA$, each of which has $k$ elements, i.e. $k \\mid \\varphi(n)$, i.e. $\\varphi(n) = kM$ for some $M$ and so\n",
    "$$\n",
    "a^{\\varphi(n)} \\equiv a^{kM} \\equiv (a^k)^M \\equiv 1^M \\equiv 1 \\mod n\n",
    "$$"
   ]
  },
  {
   "cell_type": "markdown",
   "id": "49679567-d3ed-4b24-871d-8817eb20d0e5",
   "metadata": {},
   "source": [
    "## The Chinese Remainder Theorem\n",
    ">**Theorem**: Let $m, n$ be coprime numbers. For every system\n",
    ">$$\n",
    "\\begin{align*}\n",
    "x &\\equiv a_1 \\mod m\\\\\n",
    "x &\\equiv a_2 \\mod n\n",
    "\\end{align*}\n",
    "$$\n",
    "there is a unique solution in $0 \\leq x < mn$.\n",
    "\n",
    "For practical purposes, this means that instead of doing our computations in $\\mathbb Z/mn$, which could be a pretty big ring, we can instead do two computations in $\\mathbb Z/m$ and $\\mathbb Z/n$ and combine the results using the method in the proof, yielding a much more manageable process.\n",
    "\n",
    "*Proof of theorem*: Note that every $x\\in \\mathbb Z /mn$ is a solution of some system; just take the modulo in each system.\n",
    "\n",
    "Note that a desired $x$ would have the following forms:\n",
    "$$\n",
    "\\begin{align*}\n",
    "x &= q_1m + a_1\\\\\n",
    "x &= q_2n + a_2\n",
    "\\end{align*}\n",
    "$$\n",
    "and so, if we were able to recover either $q_1$ or $q_2$, we could reconstruct $x$.\n",
    "\n",
    "Now, since $m$ and $n$ are coprime, they have the Bézout identity $\\alpha m + \\beta n = 1$ for $\\alpha, \\beta \\in \\mathbb Z$. With this information, define\n",
    "$$\n",
    "x := \\beta n (a_1 - a_2) + a_2\n",
    "$$\n",
    "Notice then\n",
    "$$\n",
    "\\begin{align*}\n",
    "x &\\equiv n \\beta (a_1 - a_2) + a_2 \\equiv a_2 \\mod n\\\\\n",
    "x &\\equiv n \\beta (a_1 - a_2) + a_2 \\equiv (n\\beta + m\\alpha)(a_1 - a_2) + a_2 \\equiv a_1 - a_2 + a_2 \\equiv a_1 \\mod m\\\\\n",
    "\\end{align*}\n",
    "$$\n",
    "\n",
    "Note that this immediately implies that for coprime $m$ and $n$, $\\varphi(mn) = \\varphi(m)\\varphi(n)$, as the full implication shows that $\\mathbb Z/mn \\cong \\mathbb Z/m \\oplus \\mathbb Z/n$ (it's completely fine if you don't know what this means, it'll suffice to use the result)"
   ]
  },
  {
   "cell_type": "markdown",
   "id": "377f1fa8-9304-41dc-a93e-3862ebd174f2",
   "metadata": {},
   "source": [
    "Try it out! Compute the following:\n",
    "```\n",
    "648236487326487236 % 36\n",
    "```\n",
    "by hand!"
   ]
  },
  {
   "cell_type": "code",
   "execution_count": 6,
   "id": "507f174e-2b2f-445b-b0ec-e491550eb08d",
   "metadata": {},
   "outputs": [
    {
     "data": {
      "text/plain": [
       "8"
      ]
     },
     "execution_count": 6,
     "metadata": {},
     "output_type": "execute_result"
    }
   ],
   "source": [
    "648236487326487236 % 36"
   ]
  },
  {
   "cell_type": "markdown",
   "id": "250b4f80-989a-4249-a8ae-4a04c6181ab9",
   "metadata": {},
   "source": [
    "## The math behind RSA\n",
    "For two prime numbers $p$ and $q$ not equal to each other, we can form their product $n = pq$. Now, $n\\mid m$ if and only if $p\\mid m$ and $q\\mid m$, since $p$ and $q$ are coprime. Then, note for any $0 \\leq m < n$, we have that\n",
    "$$\n",
    "\\begin{align*}\n",
    "m(m^{\\varphi(n)} - 1) \\equiv 0 \\mod p\\\\\n",
    "m(m^{\\varphi(n)} - 1) \\equiv 0 \\mod q\\\\\n",
    "\\end{align*}\n",
    "$$\n",
    "as either $p\\mid m$, or $\\gcd(p, m) = 1$ and so $m^{\\varphi(p)} \\equiv 1 \\mod p$, and similarly for $q$. As a result,\n",
    "$$\n",
    "m^{\\varphi(n)+1} \\equiv m \\mod n\n",
    "$$\n",
    "\n",
    "Now, if we were to find some $e$ which is coprime to $\\varphi(n)$, and solve for its Bézout identity\n",
    "$$\n",
    "de + l\\varphi(n) = 1\n",
    "$$\n",
    "we get $d$ which satisfies \n",
    "$$\n",
    "\\begin{align*}\n",
    "0 \\equiv m - m \\equiv m^{ed + \\gamma\\varphi(n)} - m &\\equiv m^{ed - 1}(m m^{\\varphi(n)}) m^{(\\gamma - 1)\\varphi(n)} - m \\equiv m^{ed - 1}(m)m^{(\\gamma - 1)\\varphi(n)} - m\\\\\n",
    "&\\equiv \\dots \\equiv m^{ed - 1}m - m \\equiv m^{ed} - m \\mod n\n",
    "\\end{align*}\n",
    "$$\n",
    "and since $p$ and $q$ are both prime, we have that $\\varphi(p) = p-1, \\varphi(q) = q-1$ and $\\varphi(n) = \\varphi(p)\\varphi(q)$."
   ]
  },
  {
   "cell_type": "markdown",
   "id": "7c206777-1f4e-4950-a93a-c0693a450442",
   "metadata": {},
   "source": [
    "## The Chinese Remainder theorem"
   ]
  },
  {
   "cell_type": "code",
   "execution_count": 7,
   "id": "beeeeaa0-624a-4a2d-876f-402805bdc672",
   "metadata": {},
   "outputs": [],
   "source": [
    "class RSAKey:\n",
    "    def __init__(self, n, e):\n",
    "        self.n = n\n",
    "        self._key = e\n",
    "\n",
    "        self._ring = FiniteIntegerRing(n)\n",
    "\n",
    "    def encrypt(self, message):\n",
    "        return self._ring.pow(message, self._key)\n",
    "\n",
    "class RSASecretKey(RSAKey):\n",
    "    def __init__(self, n, d, p, q):\n",
    "        RSAKey.__init__(self, n, d)\n",
    "        self.p = p\n",
    "        self.q = q\n",
    "\n",
    "        self._dp = d % (p - 1)\n",
    "        self._dq = d % (q - 1)\n",
    "        \n",
    "        self._fp = FiniteField(p)\n",
    "        self._fq = FiniteField(q)\n",
    "\n",
    "    def decrypt(self, ciphertext):\n",
    "        m1 = self._fp.pow(ciphertext, self._dp)\n",
    "        m2 = self._fq.pow(ciphertext, self._dq)\n",
    "        h = self._fp.mult(self._fp.mult_inv(self.q), m1 - m2)\n",
    "\n",
    "        return m2 + h * q"
   ]
  },
  {
   "cell_type": "code",
   "execution_count": 8,
   "id": "81135fd5-6e09-4a84-9d6e-a1b8e4089b37",
   "metadata": {},
   "outputs": [],
   "source": [
    "def generateRSAKeyPair(p, q) -> (RSAKey, RSASecretKey):\n",
    "    from math import lcm, gcd\n",
    "    from numpy.random import choice\n",
    "    n = p * q\n",
    "    totient = lcm(p-1, q-1)\n",
    "\n",
    "    # hardcoded limit; do it differently!\n",
    "    coprimes = [x for x in range(2, min(totient, 1000))\n",
    "                if gcd(x, totient) == 1]\n",
    "\n",
    "    e = choice(coprimes)\n",
    "    d, _ = pairBezout(e, totient)\n",
    "    # getting rid of the negative\n",
    "    d = d + totient\n",
    "\n",
    "    pub = RSAKey(n, e)\n",
    "    sec = RSASecretKey(n, d, p, q)\n",
    "    return (pub, sec)"
   ]
  },
  {
   "cell_type": "markdown",
   "id": "f63f6433-402b-4ef9-a603-cb5d07f80a7a",
   "metadata": {},
   "source": [
    "Let's encrypt a message and send it to ourselves :)\n",
    "\n",
    "We generate primes in the range of $[768, 1024]$ so that we have somewhat large primes to work on without the computation taking ages."
   ]
  },
  {
   "cell_type": "code",
   "execution_count": 9,
   "id": "f3f8b5d1-4cfb-4473-ab5c-884c6c138f66",
   "metadata": {},
   "outputs": [
    {
     "name": "stdout",
     "output_type": "stream",
     "text": [
      "1448303 1564307\n"
     ]
    }
   ],
   "source": [
    "from numpy.random import randint\n",
    "p = generatePrime(randint(2**20, 2**21))\n",
    "q = generatePrime(randint(2**20, 2**21))\n",
    "print(p, q)\n",
    "\n",
    "pub, sec = generateRSAKeyPair(p, q)"
   ]
  },
  {
   "cell_type": "code",
   "execution_count": 10,
   "id": "22a1c8ce-a167-49fc-adc9-1af1bc6d7f8f",
   "metadata": {},
   "outputs": [
    {
     "name": "stdout",
     "output_type": "stream",
     "text": [
      "0x1a93fed18c3\n"
     ]
    }
   ],
   "source": [
    "message = 0xbeef\n",
    "ciphertext = pub.encrypt(message)\n",
    "print(hex(ciphertext))"
   ]
  },
  {
   "cell_type": "code",
   "execution_count": 11,
   "id": "4d863a17-670c-4f8f-846b-54d006526684",
   "metadata": {},
   "outputs": [
    {
     "name": "stdout",
     "output_type": "stream",
     "text": [
      "0xbeef\n"
     ]
    }
   ],
   "source": [
    "decrypted_message = sec.decrypt(ciphertext)\n",
    "print(hex(decrypted_message))"
   ]
  },
  {
   "cell_type": "code",
   "execution_count": 12,
   "id": "da15eae6-b548-410b-badb-b71015a80d2f",
   "metadata": {},
   "outputs": [
    {
     "data": {
      "text/plain": [
       "41"
      ]
     },
     "execution_count": 12,
     "metadata": {},
     "output_type": "execute_result"
    }
   ],
   "source": [
    "from math import log\n",
    "# a given n can uniquely encode log_2(n) bits of information\n",
    "int(log(p * q, 2))"
   ]
  },
  {
   "cell_type": "markdown",
   "id": "aa9dacb4-95d3-49d3-8fc4-c404381be83c",
   "metadata": {},
   "source": [
    "### Proof-of-concept encryption scheme"
   ]
  },
  {
   "cell_type": "code",
   "execution_count": 13,
   "id": "de787809-ba44-4079-b98e-37cc1fa32a51",
   "metadata": {},
   "outputs": [],
   "source": [
    "class Stream:\n",
    "    def pack(msg) -> int:\n",
    "        num = 0\n",
    "        data = bytes(msg, 'utf-8')\n",
    "        for b in data:\n",
    "            num = num << 8\n",
    "            num += b\n",
    "\n",
    "        return num\n",
    "\n",
    "    def unpack(code) -> list:\n",
    "        wrap = []\n",
    "        while code != 0:\n",
    "            b = code & 0xff\n",
    "            wrap.append(b)\n",
    "            code = code >> 8\n",
    "\n",
    "        return wrap[::-1]\n"
   ]
  },
  {
   "cell_type": "code",
   "execution_count": 22,
   "id": "69992f2c-f66b-44bf-85cb-589832298807",
   "metadata": {},
   "outputs": [],
   "source": [
    "message = \"Hello world!\""
   ]
  },
  {
   "cell_type": "code",
   "execution_count": 15,
   "id": "6be18b72-91e1-45fc-b25f-501ee95e595c",
   "metadata": {},
   "outputs": [],
   "source": [
    "cipher_blocks = []\n",
    "\n",
    "# the block size is how many bits can be losslessly encoded in a block;\n",
    "# this is due to the Chinese remainder theorem\n",
    "block_size = int(log(pub.n, 2))//8\n",
    "\n",
    "for block in range(0, len(message), block_size):\n",
    "    encoded = Stream.pack(message[block:block + block_size])\n",
    "    cipher_block = pub.encrypt(encoded)\n",
    "    cipher_blocks.append(cipher_block)"
   ]
  },
  {
   "cell_type": "code",
   "execution_count": 1,
   "id": "d0f0a4e4-7c4e-4525-a2b4-c1db6c28fa4a",
   "metadata": {},
   "outputs": [],
   "source": [
    "def decipherBlocks(cipher_blocks, sec):\n",
    "    decoded_buffer = []\n",
    "    for block in cipher_blocks:\n",
    "        decipher = sec.decrypt(block)\n",
    "        decoded_buffer += Stream.unpack(decipher)\n",
    "    return decoded_buffer"
   ]
  },
  {
   "cell_type": "code",
   "execution_count": 2,
   "id": "d79a1229-8990-4028-9569-9da28e5c868f",
   "metadata": {
    "collapsed": true,
    "jupyter": {
     "outputs_hidden": true
    },
    "scrolled": true
   },
   "outputs": [
    {
     "ename": "ModuleNotFoundError",
     "evalue": "No module named 'line_profiler'",
     "output_type": "error",
     "traceback": [
      "\u001b[0;31m---------------------------------------------------------------------------\u001b[0m",
      "\u001b[0;31mModuleNotFoundError\u001b[0m                       Traceback (most recent call last)",
      "Cell \u001b[0;32mIn[2], line 1\u001b[0m\n\u001b[0;32m----> 1\u001b[0m \u001b[43mget_ipython\u001b[49m\u001b[43m(\u001b[49m\u001b[43m)\u001b[49m\u001b[38;5;241;43m.\u001b[39;49m\u001b[43mrun_line_magic\u001b[49m\u001b[43m(\u001b[49m\u001b[38;5;124;43m'\u001b[39;49m\u001b[38;5;124;43mload_ext\u001b[39;49m\u001b[38;5;124;43m'\u001b[39;49m\u001b[43m,\u001b[49m\u001b[43m \u001b[49m\u001b[38;5;124;43m'\u001b[39;49m\u001b[38;5;124;43mline_profiler\u001b[39;49m\u001b[38;5;124;43m'\u001b[39;49m\u001b[43m)\u001b[49m\n\u001b[1;32m      2\u001b[0m get_ipython()\u001b[38;5;241m.\u001b[39mrun_line_magic(\u001b[38;5;124m'\u001b[39m\u001b[38;5;124mlprun\u001b[39m\u001b[38;5;124m'\u001b[39m, \u001b[38;5;124m'\u001b[39m\u001b[38;5;124m-f decipherBlocks decipherBlocks(cipher_blocks, sec)\u001b[39m\u001b[38;5;124m'\u001b[39m)\n",
      "File \u001b[0;32m/usr/lib/python3.12/site-packages/IPython/core/interactiveshell.py:2480\u001b[0m, in \u001b[0;36mInteractiveShell.run_line_magic\u001b[0;34m(self, magic_name, line, _stack_depth)\u001b[0m\n\u001b[1;32m   2478\u001b[0m     kwargs[\u001b[38;5;124m'\u001b[39m\u001b[38;5;124mlocal_ns\u001b[39m\u001b[38;5;124m'\u001b[39m] \u001b[38;5;241m=\u001b[39m \u001b[38;5;28mself\u001b[39m\u001b[38;5;241m.\u001b[39mget_local_scope(stack_depth)\n\u001b[1;32m   2479\u001b[0m \u001b[38;5;28;01mwith\u001b[39;00m \u001b[38;5;28mself\u001b[39m\u001b[38;5;241m.\u001b[39mbuiltin_trap:\n\u001b[0;32m-> 2480\u001b[0m     result \u001b[38;5;241m=\u001b[39m \u001b[43mfn\u001b[49m\u001b[43m(\u001b[49m\u001b[38;5;241;43m*\u001b[39;49m\u001b[43margs\u001b[49m\u001b[43m,\u001b[49m\u001b[43m \u001b[49m\u001b[38;5;241;43m*\u001b[39;49m\u001b[38;5;241;43m*\u001b[39;49m\u001b[43mkwargs\u001b[49m\u001b[43m)\u001b[49m\n\u001b[1;32m   2482\u001b[0m \u001b[38;5;66;03m# The code below prevents the output from being displayed\u001b[39;00m\n\u001b[1;32m   2483\u001b[0m \u001b[38;5;66;03m# when using magics with decorator @output_can_be_silenced\u001b[39;00m\n\u001b[1;32m   2484\u001b[0m \u001b[38;5;66;03m# when the last Python token in the expression is a ';'.\u001b[39;00m\n\u001b[1;32m   2485\u001b[0m \u001b[38;5;28;01mif\u001b[39;00m \u001b[38;5;28mgetattr\u001b[39m(fn, magic\u001b[38;5;241m.\u001b[39mMAGIC_OUTPUT_CAN_BE_SILENCED, \u001b[38;5;28;01mFalse\u001b[39;00m):\n",
      "File \u001b[0;32m/usr/lib/python3.12/site-packages/IPython/core/magics/extension.py:33\u001b[0m, in \u001b[0;36mExtensionMagics.load_ext\u001b[0;34m(self, module_str)\u001b[0m\n\u001b[1;32m     31\u001b[0m \u001b[38;5;28;01mif\u001b[39;00m \u001b[38;5;129;01mnot\u001b[39;00m module_str:\n\u001b[1;32m     32\u001b[0m     \u001b[38;5;28;01mraise\u001b[39;00m UsageError(\u001b[38;5;124m'\u001b[39m\u001b[38;5;124mMissing module name.\u001b[39m\u001b[38;5;124m'\u001b[39m)\n\u001b[0;32m---> 33\u001b[0m res \u001b[38;5;241m=\u001b[39m \u001b[38;5;28;43mself\u001b[39;49m\u001b[38;5;241;43m.\u001b[39;49m\u001b[43mshell\u001b[49m\u001b[38;5;241;43m.\u001b[39;49m\u001b[43mextension_manager\u001b[49m\u001b[38;5;241;43m.\u001b[39;49m\u001b[43mload_extension\u001b[49m\u001b[43m(\u001b[49m\u001b[43mmodule_str\u001b[49m\u001b[43m)\u001b[49m\n\u001b[1;32m     35\u001b[0m \u001b[38;5;28;01mif\u001b[39;00m res \u001b[38;5;241m==\u001b[39m \u001b[38;5;124m'\u001b[39m\u001b[38;5;124malready loaded\u001b[39m\u001b[38;5;124m'\u001b[39m:\n\u001b[1;32m     36\u001b[0m     \u001b[38;5;28mprint\u001b[39m(\u001b[38;5;124m\"\u001b[39m\u001b[38;5;124mThe \u001b[39m\u001b[38;5;132;01m%s\u001b[39;00m\u001b[38;5;124m extension is already loaded. To reload it, use:\u001b[39m\u001b[38;5;124m\"\u001b[39m \u001b[38;5;241m%\u001b[39m module_str)\n",
      "File \u001b[0;32m/usr/lib/python3.12/site-packages/IPython/core/extensions.py:62\u001b[0m, in \u001b[0;36mExtensionManager.load_extension\u001b[0;34m(self, module_str)\u001b[0m\n\u001b[1;32m     55\u001b[0m \u001b[38;5;250m\u001b[39m\u001b[38;5;124;03m\"\"\"Load an IPython extension by its module name.\u001b[39;00m\n\u001b[1;32m     56\u001b[0m \n\u001b[1;32m     57\u001b[0m \u001b[38;5;124;03mReturns the string \"already loaded\" if the extension is already loaded,\u001b[39;00m\n\u001b[1;32m     58\u001b[0m \u001b[38;5;124;03m\"no load function\" if the module doesn't have a load_ipython_extension\u001b[39;00m\n\u001b[1;32m     59\u001b[0m \u001b[38;5;124;03mfunction, or None if it succeeded.\u001b[39;00m\n\u001b[1;32m     60\u001b[0m \u001b[38;5;124;03m\"\"\"\u001b[39;00m\n\u001b[1;32m     61\u001b[0m \u001b[38;5;28;01mtry\u001b[39;00m:\n\u001b[0;32m---> 62\u001b[0m     \u001b[38;5;28;01mreturn\u001b[39;00m \u001b[38;5;28;43mself\u001b[39;49m\u001b[38;5;241;43m.\u001b[39;49m\u001b[43m_load_extension\u001b[49m\u001b[43m(\u001b[49m\u001b[43mmodule_str\u001b[49m\u001b[43m)\u001b[49m\n\u001b[1;32m     63\u001b[0m \u001b[38;5;28;01mexcept\u001b[39;00m \u001b[38;5;167;01mModuleNotFoundError\u001b[39;00m:\n\u001b[1;32m     64\u001b[0m     \u001b[38;5;28;01mif\u001b[39;00m module_str \u001b[38;5;129;01min\u001b[39;00m BUILTINS_EXTS:\n",
      "File \u001b[0;32m/usr/lib/python3.12/site-packages/IPython/core/extensions.py:77\u001b[0m, in \u001b[0;36mExtensionManager._load_extension\u001b[0;34m(self, module_str)\u001b[0m\n\u001b[1;32m     75\u001b[0m \u001b[38;5;28;01mwith\u001b[39;00m \u001b[38;5;28mself\u001b[39m\u001b[38;5;241m.\u001b[39mshell\u001b[38;5;241m.\u001b[39mbuiltin_trap:\n\u001b[1;32m     76\u001b[0m     \u001b[38;5;28;01mif\u001b[39;00m module_str \u001b[38;5;129;01mnot\u001b[39;00m \u001b[38;5;129;01min\u001b[39;00m sys\u001b[38;5;241m.\u001b[39mmodules:\n\u001b[0;32m---> 77\u001b[0m         mod \u001b[38;5;241m=\u001b[39m \u001b[43mimport_module\u001b[49m\u001b[43m(\u001b[49m\u001b[43mmodule_str\u001b[49m\u001b[43m)\u001b[49m\n\u001b[1;32m     78\u001b[0m     mod \u001b[38;5;241m=\u001b[39m sys\u001b[38;5;241m.\u001b[39mmodules[module_str]\n\u001b[1;32m     79\u001b[0m     \u001b[38;5;28;01mif\u001b[39;00m \u001b[38;5;28mself\u001b[39m\u001b[38;5;241m.\u001b[39m_call_load_ipython_extension(mod):\n",
      "File \u001b[0;32m/usr/lib/python3.12/importlib/__init__.py:90\u001b[0m, in \u001b[0;36mimport_module\u001b[0;34m(name, package)\u001b[0m\n\u001b[1;32m     88\u001b[0m             \u001b[38;5;28;01mbreak\u001b[39;00m\n\u001b[1;32m     89\u001b[0m         level \u001b[38;5;241m+\u001b[39m\u001b[38;5;241m=\u001b[39m \u001b[38;5;241m1\u001b[39m\n\u001b[0;32m---> 90\u001b[0m \u001b[38;5;28;01mreturn\u001b[39;00m \u001b[43m_bootstrap\u001b[49m\u001b[38;5;241;43m.\u001b[39;49m\u001b[43m_gcd_import\u001b[49m\u001b[43m(\u001b[49m\u001b[43mname\u001b[49m\u001b[43m[\u001b[49m\u001b[43mlevel\u001b[49m\u001b[43m:\u001b[49m\u001b[43m]\u001b[49m\u001b[43m,\u001b[49m\u001b[43m \u001b[49m\u001b[43mpackage\u001b[49m\u001b[43m,\u001b[49m\u001b[43m \u001b[49m\u001b[43mlevel\u001b[49m\u001b[43m)\u001b[49m\n",
      "File \u001b[0;32m<frozen importlib._bootstrap>:1387\u001b[0m, in \u001b[0;36m_gcd_import\u001b[0;34m(name, package, level)\u001b[0m\n",
      "File \u001b[0;32m<frozen importlib._bootstrap>:1360\u001b[0m, in \u001b[0;36m_find_and_load\u001b[0;34m(name, import_)\u001b[0m\n",
      "File \u001b[0;32m<frozen importlib._bootstrap>:1324\u001b[0m, in \u001b[0;36m_find_and_load_unlocked\u001b[0;34m(name, import_)\u001b[0m\n",
      "\u001b[0;31mModuleNotFoundError\u001b[0m: No module named 'line_profiler'"
     ]
    }
   ],
   "source": [
    "%load_ext line_profiler\n",
    "%lprun -f decipherBlocks decipherBlocks(cipher_blocks, sec)"
   ]
  },
  {
   "cell_type": "code",
   "execution_count": 17,
   "id": "a1c8d5e6-c27c-49aa-bd47-202abbc67773",
   "metadata": {},
   "outputs": [
    {
     "name": "stdout",
     "output_type": "stream",
     "text": [
      "\n",
      " Lorem ipsum dolor sit amet, consectetur adipiscing elit. Donec ut quam nec ligula semper auctor. Donec ultricies odio erat, id ultricies nulla porta et. Vestibulum ante ipsum primis in faucibus orci luctus et ultrices posuere cubilia curae; Sed in tempor ex. Sed vel consectetur erat, ac convallis nibh. Pellentesque hendrerit purus sagittis, elementum lectus porttitor, mattis velit. Ut condimentum lobortis enim nec commodo. Donec ac libero auctor, dapibus ligula id, ultrices nulla. Nunc pretium eu velit nec laoreet. Curabitur ullamcorper lacus turpis, ac cursus urna accumsan nec. Curabitur luctus leo quam, id feugiat ipsum placerat at. Suspendisse tempus metus ac erat consectetur, ut ultricies orci maximus. Vestibulum tempor urna non odio gravida, id faucibus lectus finibus. Aenean a pellentesque diam. Duis in fermentum purus. \n",
      "\n"
     ]
    }
   ],
   "source": [
    "received_message = str(bytearray(decoded_buffer), 'utf-8')\n",
    "print(received_message)\n",
    "assert message == received_message"
   ]
  },
  {
   "cell_type": "markdown",
   "id": "053e464a-84ce-485d-9224-9d6caff1bb6b",
   "metadata": {},
   "source": [
    "# Elliptic-curve Cryptography"
   ]
  },
  {
   "cell_type": "code",
   "execution_count": 18,
   "id": "da4f1203-1bf1-4bbf-b54f-3eaabb35c0d9",
   "metadata": {},
   "outputs": [],
   "source": [
    "class Point:\n",
    "    def __init__(self, x, y, is_infinity=False):\n",
    "        if is_infinity:\n",
    "            self.is_infinity = True\n",
    "            self.x = 0\n",
    "            self.y = 0\n",
    "        else:\n",
    "            self.is_infinity = False\n",
    "            self.x = x\n",
    "            self.y = y\n",
    "            \n",
    "    def tuple(self):\n",
    "        return (self.x, self.y)\n",
    "\n",
    "    def inf():\n",
    "        return Point(0,0,is_infinity=True)\n",
    "\n",
    "\n",
    "class Curve:\n",
    "    def __init__(self, p, a, b):\n",
    "        self.p = p\n",
    "        self.a = a\n",
    "        self.b = b\n",
    "        self.field = FiniteField(p)\n",
    "        self.curve = lambda pt: self.field.sub(self.field.pow(pt.y,2), \n",
    "                self.field.pow(pt.x,3) + self.field.mult(a,pt.x) + b\n",
    "            )\n",
    "\n",
    "\n",
    "    def add(self, P: Point, Q: Point) -> Point:\n",
    "        f = self.field\n",
    "        if P.is_infinity:\n",
    "            return Q\n",
    "        if Q.is_infinity:\n",
    "            return P\n",
    "            \n",
    "        lmb = 0\n",
    "        x1, y1 = P.tuple()\n",
    "        x2, y2 = Q.tuple()\n",
    "        \n",
    "        if x1 == x2 and f.add(y1, y2) == 0:\n",
    "            return Point.inf()\n",
    "            \n",
    "        if x1 != x2 or y1 != y2:\n",
    "            lmb = (y2-y1) * f.mult_inv(x2 - x1)\n",
    "        else:\n",
    "            lmb = (3 * (x1 ** 2) + self.a) * f.mult_inv(2 * y1)\n",
    "    \n",
    "    \n",
    "        x3 = f.sub((lmb ** 2), x1+x2)\n",
    "        y3 = f.sub(lmb * (x1-x3), y1)\n",
    "    \n",
    "    \n",
    "        return Point(x3, y3, False)\n",
    "\n",
    "    def scalar_mult(self, n: int, P: Point) -> Point:\n",
    "        if not n > 0:\n",
    "            raise ValueError(\"The scalar should be greater than 0!\")\n",
    "\n",
    "        Q = P\n",
    "        R = Point.inf()\n",
    "\n",
    "        while n > 0:\n",
    "            if n % 2 == 1:\n",
    "                R = self.add(R, Q)\n",
    "            Q = self.add(Q, Q)\n",
    "            n = n//2\n",
    "        return R\n"
   ]
  },
  {
   "cell_type": "code",
   "execution_count": 19,
   "id": "2c6b31dc-712f-4279-a23c-802651642e6c",
   "metadata": {},
   "outputs": [],
   "source": [
    "a = 497\n",
    "b = 1768\n",
    "p = 9739"
   ]
  },
  {
   "cell_type": "code",
   "execution_count": 20,
   "id": "8c4d2be4-f7b5-4382-bf7a-e1ea39f189e2",
   "metadata": {},
   "outputs": [
    {
     "data": {
      "text/plain": [
       "(4215, 2162)"
      ]
     },
     "execution_count": 20,
     "metadata": {},
     "output_type": "execute_result"
    }
   ],
   "source": [
    "P = Point(493, 5564)\n",
    "Q = Point(1539, 4742)\n",
    "R = Point(4403, 5202)\n",
    "\n",
    "terms = [P, P, Q, R]\n",
    "curve = Curve(p, a, b)\n",
    "\n",
    "total = Point.inf()\n",
    "for term in terms:\n",
    "    total = curve.add(total, term)\n",
    "\n",
    "total.tuple()\n"
   ]
  },
  {
   "cell_type": "code",
   "execution_count": 21,
   "id": "6f397900-fb2d-4aa2-be8e-d64249328e7b",
   "metadata": {},
   "outputs": [],
   "source": [
    "X = Point(5323, 5438)\n",
    "assert curve.scalar_mult(1337, X).tuple() == (1089, 6931)"
   ]
  },
  {
   "cell_type": "code",
   "execution_count": 28,
   "id": "806f05fa-3c2c-4007-abc3-d79646955d6e",
   "metadata": {},
   "outputs": [
    {
     "name": "stdout",
     "output_type": "stream",
     "text": [
      "crypto{9467,2742}\n"
     ]
    }
   ],
   "source": [
    "P = Point(2339,2213)\n",
    "ans = curve.scalar_mult(7863, P).tuple()\n",
    "print(f\"crypto{{%d,%d}}\" % ans)"
   ]
  }
 ],
 "metadata": {
  "kernelspec": {
   "display_name": "Python 3 (ipykernel)",
   "language": "python",
   "name": "python3"
  },
  "language_info": {
   "codemirror_mode": {
    "name": "ipython",
    "version": 3
   },
   "file_extension": ".py",
   "mimetype": "text/x-python",
   "name": "python",
   "nbconvert_exporter": "python",
   "pygments_lexer": "ipython3",
   "version": "3.12.4"
  }
 },
 "nbformat": 4,
 "nbformat_minor": 5
}
