{
 "cells": [
  {
   "cell_type": "markdown",
   "id": "37b94519-c921-4b34-b970-bd24458c375b",
   "metadata": {},
   "source": [
    "# Modular arithmetic"
   ]
  },
  {
   "cell_type": "markdown",
   "id": "64463b74-756d-46cd-996c-8def6c8e8bbc",
   "metadata": {},
   "source": [
    "## The greatest common divisor of two integers\n",
    "\n",
    "An integer $k$ is said to divide another $n$ (written $k\\mid n$) if there is some third integer $m$ such that $n = km$. A great property of the integers is that for any two integers $a, b$, there is some number $d$ called the greatest common divisor of $a$ and $b$ that divides both $d\\mid a$ and $d\\mid b$, as well as for any other $e$ with $e\\mid a$ and $e\\mid b$, we have $e\\mid d$; this is what we mean by the \"greatest\" common divisor: any common divisor of $a$ and $b$ must also divide $d$.\n",
    "\n",
    "Although the definition seems terse and convoluted, there is a very simple way of computing the greatest common divisor of two numbers! It is no complicated than the \"long division\" you've used all your life, it just extends the observations made about division a bit further."
   ]
  },
  {
   "cell_type": "markdown",
   "id": "46475b1c-bfbb-468c-b3c7-76e43adccff4",
   "metadata": {},
   "source": [
    "### The Division algorithm and computing GCDs\n",
    "\n",
    "The standard way of performing long division has a special name, the \"Euclidean Division algorithm\", and it is a way of obtaining the following result:\n",
    "\n",
    "**Theorem**: Given two integers $a, b$ with $b \\neq 0$, there are unique (!) integers $q$ and $r$, with $0 \\leq r < |b|$, such that\n",
    "$$\n",
    "a = qb + r\n",
    "$$\n",
    "\n",
    "Then, note for any $a$ and $b$, any common divisor $d$ of $a$ and $b$ also necessarily divides $r$, as $a - qb = r$ and $d\\mid a, d\\mid b$. Furthermore, since $d\\mid b$ and $d\\mid r$, we further observe $d\\mid \\gcd(b, r)$.\n",
    "Then, we can keep repeating this process:\n",
    "$$\n",
    "\\begin{align}\n",
    "a &= q_1b + r_1\\\\\n",
    "b &= q_2r_1 + r_2\\\\\n",
    "r_1 &= q_3r_2 + r_3\\\\\n",
    "\\dots\n",
    "\\end{align}\n",
    "$$\n",
    "\n",
    "### ... ad infinitum?\n",
    "Although there's a formal proof on why this terminates, you don't need a mathematical proof to justify yourself that 1 is a common divisor of every pair of numbers, and so this process stops at some point, i.e., we get that for some $r_n$\n",
    "$$\n",
    "r_{n-1} = q_{n-3}r_{n} + 0\n",
    "$$\n",
    "and $r_n$ is the greatest common divisor of $r_n$ and $q_{n-3}r_n$. Notice that since every common divisor of $a$ and $b$ was a common divisor of $r_k$ and $r_{k+1}$, every common divisor of $a$ and $b$ divides $r_n$, and $r_n$ is also a common divisor of $a$ and $b$. In other words, we have obtained a recursive algorithm for computing the greatest common divisor of two numbers!"
   ]
  },
  {
   "cell_type": "code",
   "execution_count": 12,
   "id": "dce6391f-87bb-417e-89da-40b0cbd61acc",
   "metadata": {},
   "outputs": [],
   "source": [
    "def extendedGCD(x, y):\n",
    "    if x < y:\n",
    "        x, y = y, x\n",
    "    div = lambda x, y: (x//y, x%y)\n",
    "    factors = []\n",
    "\n",
    "    # this is totally unnecessary, it just felt appropriate to relabel\n",
    "    # the variables in a form similar to the DA: n = pq + r\n",
    "    n, q = x, y\n",
    "\n",
    "    while q > 0:\n",
    "        fac, rem = div(n, q)\n",
    "        factors.append(fac)\n",
    "        n = q\n",
    "        q = rem\n",
    "\n",
    "    return n, factors\n",
    "    "
   ]
  },
  {
   "cell_type": "markdown",
   "id": "213e49bc-fc2a-425e-b191-946ec7c3e454",
   "metadata": {},
   "source": [
    "## The \"ring\"? of modular arithmetic\n",
    "For some positive $n$, the integers modulo $n$ form what's called a _ring_, a mathematical abstraction specifically conceived to capture addition and multiplication together. We provide a friendly version of it here:\n",
    "\n",
    "**Definition**: A ring is a tuple $(R, +, \\cdot, 0, 1)$, where $R$ is a set, $0\\neq 1 \\in R$ special elements, and $+:R\\times R\\to R$ and $\\cdot: R\\times R \\to R$ functions, which satisfy the following:\n",
    "1. For every $r\\in R$, $r + 0 = r = 0 + r$\n",
    "1. For every $r, s, t\\in R$, $(r + s) + t = r + (s + t)$\n",
    "1. For every $r, s, t\\in R$, $(r + s) \\cdot t = rt + st$ and $t \\cdot (r + s) = tr + ts$\n",
    "1. For every $r, s\\in R$, $r + s = s + r$\n",
    "1. For every $r, s\\in R$, $rs = sr$ (commutativity)\n",
    "1. For every $r\\in R$, $r \\cdot 1 = r = 1 \\cdot r$ (unity)\n",
    "\n",
    "We use the notation $a + b = +(a, b)$ and $ab = a\\cdot b = \\cdot(a, b)$ for readability.\n",
    "\n",
    "Some examples of rings include $\\mathbb Z, \\mathbb Q, \\mathbb R, \\mathbb C$ with the usual addition and multiplication and $\\mathbb Z /n$ with the modulo addition and multiplication. If we were to relax some of the conditions (like commutativity or the existence of the element 1, we can get more examples, like the set of all square matrices with normal addition and matrix multiplication)"
   ]
  },
  {
   "cell_type": "markdown",
   "id": "2554c629-b624-489b-9ce3-81430c0ddd83",
   "metadata": {},
   "source": [
    "### An unfamiliar example\n",
    "Note that since we have addition and (repeated) multiplication in a ring $R$, we can form expressions of the form\n",
    "$$\n",
    "r_n x^n + r_{n-1} x^{n-1} + \\dots + r_1 x + r_0\n",
    "$$\n",
    "These expressions are called the polynomials over $R$. They are not functions, but rather the expressions themselves that are the polynomials. The set of all such polynomials, with the addition and multiplication as defined in $R$ is called the polynomial ring $R[x]$, where $x$ is called an indeterminate, and can be thought of as a variable."
   ]
  },
  {
   "cell_type": "code",
   "execution_count": 17,
   "id": "db311ddd-aa6a-4899-a129-7563851916eb",
   "metadata": {},
   "outputs": [],
   "source": [
    "# Since we can work with integers already, we can also form Z/n!\n",
    "class FiniteIntegerRing:\n",
    "    def __init__(self, n):\n",
    "        if n == 0:\n",
    "            raise ValueError(\"Do not specify 0! Use normal operations instead!\")\n",
    "        elif n < 0:\n",
    "            n = -n\n",
    "\n",
    "        self._n = n\n",
    "    \n",
    "    def add(self, a, b):\n",
    "        return (a + b) % self._n\n",
    "\n",
    "    def sub(self, a, b):\n",
    "        return self.add(a, -b)\n",
    "\n",
    "    def id(self, a):\n",
    "        return self.add(a, 0)\n",
    "\n",
    "    def add_inv(self, a):\n",
    "        return self.sub(0, a)\n",
    "\n",
    "    def mult(self, a, b):\n",
    "        return (a * b) % self._n\n",
    "\n",
    "    def pow(self, b, e):\n",
    "        c = 1\n",
    "        for f in range(e):\n",
    "            f += 1\n",
    "            c = self.mult(b, c)\n",
    "        return c"
   ]
  },
  {
   "cell_type": "markdown",
   "id": "4323bb90-cd77-460b-a6bd-87b65c27bf77",
   "metadata": {},
   "source": [
    "### Modular inverses\n",
    "If you play around enough with various different rings $\\mathbb Z /n$, you can see that $3\\cdot 5 \\equiv 1 \\mod 7$, or $3\\cdot 11 \\equiv 1 \\mod 16$, or $66\\cdot 102 \\equiv 1 \\mod 127$ if you're really into playing around with numbers :o\n",
    "\n",
    "So, just motivated by algebraic curiosity for now, for a given $x$, how can we find $a$ such that $ax \\equiv 1 \\mod n$ for n? In a more simplified language, how can we find inverses for elements in modular rings? Spend some time to answer this question.\n",
    "\n",
    "**Hint**: Spend some time considering what's in common with the examples above, and also try solving the following:\n",
    "\n",
    "1. What is the multiplicative inverse of $5$ in $\\mathbb Z / 11$?\n",
    "1. What is the multiplicative inverse of $5$ in $\\mathbb Z / 10$?\n",
    "1. More generally, when does an integer $k$ satisfy $k \\equiv 0 \\mod n$?"
   ]
  },
  {
   "cell_type": "markdown",
   "id": "e0f452e5-e5c8-4095-b75d-264b652fe995",
   "metadata": {
    "jupyter": {
     "source_hidden": true
    }
   },
   "source": [
    "### Answers\n",
    "\n",
    "1. $9\\cdot 5 \\equiv 44 + 1 \\equiv 1 \\mod 11$\n",
    "1. If there were some inverse $a$ of $5$, then $5a \\equiv 1 \\mod 10$ would also result in\n",
    "$$\n",
    "2 \\equiv 2\\cdot 1 \\equiv 2\\cdot 5a \\equiv 10a \\equiv 0 \\mod 10\n",
    "$$\n",
    "even though 10 does not divide 2, giving a contradiction.\n",
    "1. Note that this question was just to entice a reaction after question 2; $k \\equiv 0 \\mod n$ exactly means $n \\mid k$."
   ]
  },
  {
   "cell_type": "markdown",
   "id": "17b6b300-af1d-464b-96d4-35dd4d601d5f",
   "metadata": {},
   "source": [
    "Now, it seems that not every number gets to have an inverse all the time. It seems that for $x$ to have an inverse in $\\mathbb Z /n$, it needs to satisfy\n",
    "$$\n",
    "\\begin{align*}\n",
    "ax \\equiv 1 \\mod n \\iff ax - 1 \\equiv 0 \\mod n\\\\\n",
    "\\text{Which also means}\\ n \\mid ax - 1 \\iff ax - 1 = -bn \\iff ax + bn = 1\n",
    "\\end{align*}\n",
    "$$\n",
    "Now then, notice that it is also sufficient that there be integers $a, b$ that satisfy this relation, as\n",
    "$$\n",
    "1 \\equiv ax + bn \\equiv ax \\mod n\n",
    "$$\n",
    "Then, the problem reduces to finding two integers $a, b$ that satisfy the equation of that form. But what exactly does that equation tell us?"
   ]
  },
  {
   "cell_type": "markdown",
   "id": "6f368b61-2161-4b08-aeca-1c3f2f2faaed",
   "metadata": {},
   "source": [
    "## The Bézout identity\n",
    "For such integers $x$ and $n$, the Bézout identity is of the form $ax + bn = d$ for integers $a, b, d$. You can immediately make the observation that any common divisor of $x$ and $n$ necessarily divides $d$. The fascinating result that we can obtain is that there exists unique $s$ and $t$ such that the following also holds:\n",
    "$$\n",
    "sx + tn = \\gcd(x, n)\n",
    "$$\n",
    "We have seen a bit of the proof already in [computing the GCD through the division algorithm](#the-division-algorithm-and-computing-gcds), namely the fact that we can obtain the gcd through repeated application of the division algorithm\n",
    "$$\n",
    "\\begin{align}\n",
    "a &= q_1b + r_1\\\\\n",
    "b &= q_2r_1 + r_2\\\\\n",
    "r_1 &= q_3r_2 + r_3\\\\\n",
    "&\\dots\\\\\n",
    "r_{n-1} &= q_{n+1}r_n + 0\n",
    "\\end{align}\n",
    "$$\n",
    "Now, notice that each line can be rewritten as follows (we also rename $a := r_{-1}$ and $b := r_0$)\n",
    "$$\n",
    "\\begin{align}\n",
    "r_{-1} - q_1r_0 &= r_1\\\\\n",
    "r_0 - q_2r_1 &= r_2\\\\\n",
    "r_1 - q_3r_2 &= r_3\\\\\n",
    "&\\dots\\\\\n",
    "r_{n-2} - q_nr_{n-1} &= r_n = \\gcd(a, b)\\\\\n",
    "r_{n-1} - q_{n+1}r_n &= 0\n",
    "\\end{align}\n",
    "$$\n",
    "The proof now boils down to a simple proof by induction: we claim that for every $k = -1, \\dots, n-2$, we can form the expression $\\lambda r_{k} + \\gamma r_{k+1} = \\gcd(a,b)$ for some integers $\\lambda, \\gamma$.\n",
    "\n",
    "For $k = n-2$, this is obvious.\n",
    "\n",
    "Suppose it holds for $k$; then, notice that we can make the rewrite\n",
    "$$\n",
    "\\begin{align}\n",
    "\\lambda r_k &+ \\gamma r_{k+1} = \\gcd(a,b)\\\\\n",
    "\\lambda r_k &+ \\gamma (r_{k-1} - q_{k+1}r_k) = \\gcd(a,b)\\\\\n",
    "\\gamma r_{k-1} &+ (\\lambda - q_{k+1})r_k = \\gcd(a,b)\n",
    "\\end{align}\n",
    "$$\n",
    "and we obtain the desired result. One thing to note is that this simplifies the implementation significantly: if we keep track of all the $q_k$s involved in the GCD computation process, we can compute the integer coefficients of the Bézout identity just by applying the transformation\n",
    "$$\n",
    "(\\lambda, \\gamma) \\mapsto (\\gamma, \\lambda - q_k)\n",
    "$$\n",
    "going backwards. (We can start with the expression $0 r_{n+1} + r_n = r_n$, i.e. $(\\lambda, \\gamma) = (0, 1)$.)"
   ]
  },
  {
   "cell_type": "code",
   "execution_count": 14,
   "id": "352bc5e6-8646-4eb6-8d50-abb612e9584d",
   "metadata": {},
   "outputs": [],
   "source": [
    "def pairBezout(x, y):\n",
    "    coef = lambda P, c: (P[1], P[0] - P[1] * c)\n",
    "    maxSorted = x < y\n",
    "    d, factors = extendedGCD(x, y)\n",
    "\n",
    "    # we throw out the last factor as we do not need it for divisibility\n",
    "    factors = factors[::-1][1:]\n",
    "\n",
    "    bezout = (0, 1)\n",
    "    for fac in factors:\n",
    "        bezout = coef(bezout, fac)\n",
    "\n",
    "    if maxSorted:\n",
    "        bezout = (bezout[1], bezout[0])\n",
    "\n",
    "    return bezout\n",
    "\n",
    "def testValidBezout(x, y):\n",
    "    d, _ = extendedGCD(x, y)\n",
    "    p, q = pairBezout(x, y)\n",
    "    left = (p == 0) or (p * x % y == d)\n",
    "    right = (q == 0) or (q * y % x == d)\n",
    "    return all([left, right])\n"
   ]
  },
  {
   "cell_type": "markdown",
   "id": "09e5c4cb-b0c0-462c-9798-e2810d0186d1",
   "metadata": {},
   "source": [
    "We can immediately infer two things:\n",
    "\n",
    "1. $x$ has an inverse in $\\mathbb Z/n$ if and only if $\\gcd (x, n) = 1$, or weakly, for every $y$, there is an $a$ such that $ay \\equiv \\gcd(y, n) \\mod n$,\n",
    "1. Since for every prime number $p$, we have $\\gcd(x, p) = 1$ for $0 \\leq x < p$, every non-zero element of $\\mathbb Z /p$ has an inverse.\n",
    "\n",
    "**Note**: Structures with addition and multiplication defined so that every element has an additive inverse and every non-zero element has a multiplicative inverse, with both operations commutative and multiplication distributive over addition is called a _field_; fields are a natural setting for Linear Algebra!\n",
    "\n",
    "All this note says is that $\\mathbb Z /p$ is a structure that behaves like $\\mathbb Q$, $\\mathbb R$, $\\mathbb C$!"
   ]
  },
  {
   "cell_type": "code",
   "execution_count": 3,
   "id": "901fdc97-60e0-4070-810f-779951836067",
   "metadata": {},
   "outputs": [],
   "source": [
    "def is_prime(n):\n",
    "    from math import sqrt, ceil\n",
    "    # we only need to check whether primes up to faclimit divide n, as some\n",
    "    # factor needs to be smaller than faclimit (can be proven by\n",
    "    # contradiction!) in fact, we can check whether any number in this range\n",
    "    # divides n: this is way more expensive but for small numbers we don't have\n",
    "    # to worry about finding primes inside the range \n",
    "    faclimit = ceil(sqrt(n))\n",
    "\n",
    "    # we can divide the search in half just by testing for 2 and\n",
    "    # limiting ourselves to odd primes\n",
    "    if n % 2 == 0:\n",
    "        return False\n",
    "    for q in range(3, faclimit + 1, 2):\n",
    "        if n % q == 0:\n",
    "            return False\n",
    "\n",
    "    return True\n",
    "\n",
    "# find the closest prime sitting on top of low_seed\n",
    "def generatePrime(low_seed):\n",
    "    candidate = low_seed\n",
    "    while True:\n",
    "        if is_prime(candidate):\n",
    "            return candidate\n",
    "        else:\n",
    "            candidate += 1"
   ]
  },
  {
   "cell_type": "markdown",
   "id": "8958717d-3e0e-4be9-803c-74d2036ee6b0",
   "metadata": {},
   "source": [
    "Given how every non-zero element in $\\mathbb Z /p$ can have an inverse, we can specialize our rings to fields in the case of prime $p$. Play around with the following definition!"
   ]
  },
  {
   "cell_type": "code",
   "execution_count": 15,
   "id": "791246b3-9c5b-45f5-aa57-ca2e64cd9b31",
   "metadata": {},
   "outputs": [],
   "source": [
    "class FiniteField(FiniteIntegerRing):\n",
    "    def __init__(self, p):\n",
    "        if not is_prime(p):\n",
    "            raise ValueError(\"Specified value {} should be prime!\".format(p))\n",
    "        self._n = p\n",
    "        \n",
    "        self._cached = False\n",
    "        if (p < 1000):\n",
    "            self._cached = True\n",
    "            # there's nothing inherently special about any one instance\n",
    "            # of this class, i.e. p = q implies FiniteField(p) = FiniteField(q),\n",
    "            # so it's fine to just cache the multiplicative inverses\n",
    "            self._mult_inv_cache = [-1]\n",
    "            for x in range(1, p+1):\n",
    "                b, _ = pairBezout(x, self._n)\n",
    "                self._mult_inv_cache.append(self.add(b, 0))\n",
    "\n",
    "    def mult_inv(self, a):\n",
    "        if a == 0:\n",
    "            raise ZeroDivisionError\n",
    "\n",
    "        if self._cached:\n",
    "            # we cached the results!\n",
    "            return self._mult_inv_cache[self.id(a)]\n",
    "        else:\n",
    "            b, _ = pairBezout(a, self._n)\n",
    "            return self.add(b, 0)\n",
    "\n",
    "    def div(self, a, b):\n",
    "        return self.mult(a, self.mult_inv(b))\n"
   ]
  },
  {
   "cell_type": "markdown",
   "id": "97bbd7fe-5ebf-4b18-ad5c-89b35b99555b",
   "metadata": {},
   "source": [
    "# RSA Cryptography"
   ]
  },
  {
   "cell_type": "markdown",
   "id": "5480093f-2e7d-46ce-a699-a323d910b0ca",
   "metadata": {},
   "source": [
    "Sections about the Chinese Remainder theorem and Euler Totient function? (maybe also its relation to RSA?)\n",
    "\n",
    "Also some good-ol' group theory & ring theory!\n",
    "\n",
    "How about Mersenne primes as a bit of trivia?"
   ]
  },
  {
   "cell_type": "markdown",
   "id": "250b4f80-989a-4249-a8ae-4a04c6181ab9",
   "metadata": {},
   "source": [
    "As a result, we have the public key $(n, e)$ and the private key $(n, d)$, which satisfies\n",
    "$$\n",
    "m^{ed} \\equiv m \\mod n\n",
    "$$"
   ]
  },
  {
   "cell_type": "markdown",
   "id": "7c206777-1f4e-4950-a93a-c0693a450442",
   "metadata": {},
   "source": [
    "## Chinese remainder to the rescue!"
   ]
  },
  {
   "cell_type": "code",
   "execution_count": 5,
   "id": "beeeeaa0-624a-4a2d-876f-402805bdc672",
   "metadata": {},
   "outputs": [],
   "source": [
    "class RSAKey:\n",
    "    def __init__(self, n, e):\n",
    "        self._n = n\n",
    "        self._key = e\n",
    "\n",
    "        self._ring = FiniteIntegerRing(n)\n",
    "\n",
    "    def encrypt(self, message):\n",
    "        return self._ring.pow(message, self._key)\n",
    "\n",
    "class RSASecretKey(RSAKey):\n",
    "    def __init__(self, n, d, p, q):\n",
    "        RSAKey.__init__(self, n, d)\n",
    "        self._p = p\n",
    "        self._q = q\n",
    "\n",
    "        self._dp = d % (p - 1)\n",
    "        self._dq = d % (q - 1)\n",
    "        \n",
    "        self._fp = FiniteField(p)\n",
    "        self._fq = FiniteField(q)\n",
    "\n",
    "    def decrypt(self, ciphertext):\n",
    "        m1 = self._fp.pow(ciphertext, self._dp)\n",
    "        m2 = self._fq.pow(ciphertext, self._dq)\n",
    "        h = self._fp.mult(self._fp.mult_inv(self._q), m1 - m2)\n",
    "\n",
    "        return m2 + h * q"
   ]
  },
  {
   "cell_type": "code",
   "execution_count": 6,
   "id": "81135fd5-6e09-4a84-9d6e-a1b8e4089b37",
   "metadata": {},
   "outputs": [],
   "source": [
    "def generateRSAKeyPair(p, q) -> (RSAKey, RSASecretKey):\n",
    "    from math import lcm, gcd\n",
    "    from numpy.random import choice\n",
    "    n = p * q\n",
    "    totient = lcm(p-1, q-1)\n",
    "\n",
    "    # hardcoded limit; do it differently!\n",
    "    coprimes = [x for x in range(2, min(totient, 1000))\n",
    "                if gcd(x, totient) == 1]\n",
    "\n",
    "    e = choice(coprimes)\n",
    "    d, _ = pairBezout(e, totient)\n",
    "    # getting rid of the negative\n",
    "    d = d + totient\n",
    "\n",
    "    pub = RSAKey(n, e)\n",
    "    sec = RSASecretKey(n, d, p, q)\n",
    "    return (pub, sec)"
   ]
  },
  {
   "cell_type": "markdown",
   "id": "f63f6433-402b-4ef9-a603-cb5d07f80a7a",
   "metadata": {},
   "source": [
    "Let's encrypt a message and send it to ourselves :)\n",
    "\n",
    "We generate primes in the range of $[768, 1024]$ so that we have somewhat large primes to work on without the computation taking ages."
   ]
  },
  {
   "cell_type": "code",
   "execution_count": 7,
   "id": "f3f8b5d1-4cfb-4473-ab5c-884c6c138f66",
   "metadata": {},
   "outputs": [
    {
     "name": "stdout",
     "output_type": "stream",
     "text": [
      "119617 122953\n"
     ]
    }
   ],
   "source": [
    "from numpy.random import randint\n",
    "p = generatePrime(randint(2**16, 2**17))\n",
    "q = generatePrime(randint(2**16, 2**17))\n",
    "print(p, q)\n",
    "\n",
    "pub, sec = generateRSAKeyPair(p, q)"
   ]
  },
  {
   "cell_type": "code",
   "execution_count": 8,
   "id": "22a1c8ce-a167-49fc-adc9-1af1bc6d7f8f",
   "metadata": {},
   "outputs": [
    {
     "name": "stdout",
     "output_type": "stream",
     "text": [
      "0x17d14305b\n"
     ]
    }
   ],
   "source": [
    "message = 0xbeef\n",
    "ciphertext = pub.encrypt(message)\n",
    "print(hex(ciphertext))"
   ]
  },
  {
   "cell_type": "code",
   "execution_count": 9,
   "id": "4d863a17-670c-4f8f-846b-54d006526684",
   "metadata": {},
   "outputs": [
    {
     "name": "stdout",
     "output_type": "stream",
     "text": [
      "0xbeef\n"
     ]
    }
   ],
   "source": [
    "decrypted_message = sec.decrypt(ciphertext)\n",
    "print(hex(decrypted_message))"
   ]
  },
  {
   "cell_type": "code",
   "execution_count": 10,
   "id": "da15eae6-b548-410b-badb-b71015a80d2f",
   "metadata": {},
   "outputs": [
    {
     "data": {
      "text/plain": [
       "33"
      ]
     },
     "execution_count": 10,
     "metadata": {},
     "output_type": "execute_result"
    }
   ],
   "source": [
    "from math import log\n",
    "# a given n can uniquely encode log_2(n) bits of information\n",
    "int(log(p * q, 2))"
   ]
  }
 ],
 "metadata": {
  "kernelspec": {
   "display_name": "Python 3 (ipykernel)",
   "language": "python",
   "name": "python3"
  },
  "language_info": {
   "codemirror_mode": {
    "name": "ipython",
    "version": 3
   },
   "file_extension": ".py",
   "mimetype": "text/x-python",
   "name": "python",
   "nbconvert_exporter": "python",
   "pygments_lexer": "ipython3",
   "version": "3.12.4"
  }
 },
 "nbformat": 4,
 "nbformat_minor": 5
}
