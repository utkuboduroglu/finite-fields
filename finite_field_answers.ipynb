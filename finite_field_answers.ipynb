{
 "cells": [
  {
   "cell_type": "markdown",
   "id": "37b94519-c921-4b34-b970-bd24458c375b",
   "metadata": {},
   "source": [
    "# Modular arithmetic"
   ]
  },
  {
   "cell_type": "markdown",
   "id": "64463b74-756d-46cd-996c-8def6c8e8bbc",
   "metadata": {},
   "source": [
    "## The greatest common divisor of two integers\n",
    "\n",
    "An integer $k$ is said to divide another $n$ (written $k\\mid n$) if there is some third integer $m$ such that $n = km$. A great property of the integers is that for any two integers $a, b$, there is some number $d$ called the greatest common divisor of $a$ and $b$ that divides both $d\\mid a$ and $d\\mid b$, as well as for any other $e$ with $e\\mid a$ and $e\\mid b$, we have $e\\mid d$; this is what we mean by the \"greatest\" common divisor: any common divisor of $a$ and $b$ must also divide $d$.\n",
    "\n",
    "Although the definition seems terse and convoluted, there is a very simple way of computing the greatest common divisor of two numbers! It is no complicated than the \"long division\" you've used all your life, it just extends the observations made about division a bit further."
   ]
  },
  {
   "cell_type": "markdown",
   "id": "46475b1c-bfbb-468c-b3c7-76e43adccff4",
   "metadata": {},
   "source": [
    "### The Division algorithm and computing GCDs\n",
    "\n",
    "The standard way of performing long division has a special name, the \"Euclidean Division algorithm\", and it is a way of obtaining the following result:\n",
    "\n",
    ">**Theorem**: Given two integers $a, b$ with $b \\neq 0$, there are unique (!) integers $q$ and $r$, with $0 \\leq r < |b|$, such that\n",
    "$$\n",
    "a = qb + r\n",
    "$$\n",
    "\n",
    "Then, note for any $a$ and $b$, any common divisor $d$ of $a$ and $b$ also necessarily divides $r$, as $a - qb = r$ and $d\\mid a, d\\mid b$. Furthermore, since $d\\mid b$ and $d\\mid r$, we further observe $d\\mid \\gcd(b, r)$.\n",
    "Then, we can keep repeating this process:\n",
    "$$\n",
    "\\begin{align}\n",
    "a &= q_1b + r_1\\\\\n",
    "b &= q_2r_1 + r_2\\\\\n",
    "r_1 &= q_3r_2 + r_3\\\\\n",
    "\\dots\n",
    "\\end{align}\n",
    "$$\n",
    "\n",
    "### ... ad infinitum?\n",
    "Although there's a formal proof on why this terminates, you don't need a mathematical proof to justify yourself that 1 is a common divisor of every pair of numbers, and so this process stops at some point, i.e., we get that for some $r_n$\n",
    "$$\n",
    "r_{n-1} = q_{n-3}r_{n} + 0\n",
    "$$\n",
    "and $r_n$ is the greatest common divisor of $r_n$ and $q_{n-3}r_n$. Notice that since every common divisor of $a$ and $b$ was a common divisor of $r_k$ and $r_{k+1}$, every common divisor of $a$ and $b$ divides $r_n$, and $r_n$ is also a common divisor of $a$ and $b$. In other words, we have obtained a recursive algorithm for computing the greatest common divisor of two numbers!"
   ]
  },
  {
   "cell_type": "code",
   "execution_count": 1,
   "id": "dce6391f-87bb-417e-89da-40b0cbd61acc",
   "metadata": {},
   "outputs": [],
   "source": [
    "def extendedGCD(x, y):\n",
    "    if x < y:\n",
    "        x, y = y, x\n",
    "    div = lambda x, y: (x//y, x%y)\n",
    "    factors = []\n",
    "\n",
    "    # this is totally unnecessary, it just felt appropriate to relabel\n",
    "    # the variables in a form similar to the DA: n = pq + r\n",
    "    n, q = x, y\n",
    "\n",
    "    while q > 0:\n",
    "        fac, rem = div(n, q)\n",
    "        factors.append(fac)\n",
    "        n = q\n",
    "        q = rem\n",
    "\n",
    "    return n, factors\n",
    "    "
   ]
  },
  {
   "cell_type": "markdown",
   "id": "213e49bc-fc2a-425e-b191-946ec7c3e454",
   "metadata": {},
   "source": [
    "## The \"ring\"? of modular arithmetic\n",
    "For some positive $n$, the integers modulo $n$ form what's called a _ring_, a mathematical abstraction specifically conceived to capture addition and multiplication together. We provide a friendly version of it here:\n",
    "\n",
    ">**Definition**: A ring is a tuple $(R, +, \\cdot, 0, 1)$, where $R$ is a set, $0\\neq 1 \\in R$ special elements, and $+:R\\times R\\to R$ and $\\cdot: R\\times R \\to R$ functions, which satisfy the following:\n",
    ">1. **Zero is the identity for addition**: For every $r\\in R$, $r + 0 = r = 0 + r$\n",
    ">1. **Addition is associative**: For every $r, s, t\\in R$, $(r + s) + t = r + (s + t)$\n",
    ">1. **Multiplication distributes over addition**: For every $r, s, t\\in R$, $(r + s) \\cdot t = rt + st$ and $t \\cdot (r + s) = tr + ts$\n",
    ">1. **Addition is commutative**: For every $r, s\\in R$, $r + s = s + r$\n",
    ">1. **_Multiplication is commutative_**\\*: For every $r, s\\in R$, $rs = sr$\n",
    ">1. **_One is the identity for multiplication_**\\*: For every $r\\in R$, $r \\cdot 1 = r = 1 \\cdot r$\n",
    "\n",
    "We use the notation $a + b = +(a, b)$ and $ab = a\\cdot b = \\cdot(a, b)$ for readability.\n",
    "\n",
    "Some examples of rings include $\\mathbb Z, \\mathbb Q, \\mathbb R, \\mathbb C$ with the usual addition and multiplication and $\\mathbb Z /n$ with the modulo addition and multiplication. If we were to relax some of the conditions (like commutativity or the existence of the element 1, we can get more examples, like the set of all square matrices with normal addition and matrix multiplication)\n",
    "\n",
    "Technically speaking, with integer arithmetic and floating-point arithmetic already implemented in computers, you implicitly work with the rings $\\mathbb Z$ and $\\mathbb Q$ already without realizing it! We can go a step further and provide a basic implementation for $\\mathbb Z /n$ as well:"
   ]
  },
  {
   "cell_type": "code",
   "execution_count": 2,
   "id": "db311ddd-aa6a-4899-a129-7563851916eb",
   "metadata": {},
   "outputs": [],
   "source": [
    "class FiniteIntegerRing:\n",
    "    def __init__(self, n):\n",
    "        if n == 0:\n",
    "            raise ValueError(\"Do not specify 0! Use normal operations instead!\")\n",
    "        elif n < 0:\n",
    "            n = -n\n",
    "\n",
    "        self._n = n\n",
    "    \n",
    "    def add(self, a, b):\n",
    "        return (a + b) % self._n\n",
    "\n",
    "    def sub(self, a, b):\n",
    "        return self.add(a, -b)\n",
    "\n",
    "    def id(self, a):\n",
    "        return self.add(a, 0)\n",
    "\n",
    "    def add_inv(self, a):\n",
    "        return self.add(-a, 0)\n",
    "\n",
    "    def mult(self, a, b):\n",
    "        return (a * b) % self._n\n",
    "\n",
    "    # Note that every ring has repeated multiplication, but in\n",
    "    # the case of the integers, we can also think of it as exponentiation!\n",
    "    def pow(self, b, e):\n",
    "        c = 1\n",
    "        for f in range(e):\n",
    "            f += 1\n",
    "            c = self.mult(b, c)\n",
    "        return c"
   ]
  },
  {
   "cell_type": "markdown",
   "id": "4323bb90-cd77-460b-a6bd-87b65c27bf77",
   "metadata": {},
   "source": [
    "### Modular inverses\n",
    "If you play around enough with various different rings $\\mathbb Z /n$, you can see that $3\\cdot 5 \\equiv 1 \\mod 7$, or $3\\cdot 11 \\equiv 1 \\mod 16$, or $66\\cdot 102 \\equiv 1 \\mod 127$ if you're really into playing around with numbers :o\n",
    "\n",
    "So, just motivated by algebraic curiosity for now, for a given $x$, how can we find $a$ such that $ax \\equiv 1 \\mod n$ for n? In a more simplified language, how can we find inverses for elements in modular rings? Spend some time to answer this question.\n",
    "\n",
    "**Hint**: Spend some time considering what's in common with the examples above, and also try solving the following:\n",
    "\n",
    "1. What is the multiplicative inverse of $5$ in $\\mathbb Z / 11$?\n",
    "1. What is the multiplicative inverse of $5$ in $\\mathbb Z / 10$?\n",
    "1. More generally, when does an integer $k$ satisfy $k \\equiv 0 \\mod n$?"
   ]
  },
  {
   "cell_type": "markdown",
   "id": "e0f452e5-e5c8-4095-b75d-264b652fe995",
   "metadata": {},
   "source": [
    "### Answers\n",
    "\n",
    "1. $9\\cdot 5 \\equiv 44 + 1 \\equiv 1 \\mod 11$\n",
    "1. If there were some inverse $a$ of $5$, then $5a \\equiv 1 \\mod 10$ would also result in\n",
    "$$\n",
    "2 \\equiv 2\\cdot 1 \\equiv 2\\cdot 5a \\equiv 10a \\equiv 0 \\mod 10\n",
    "$$\n",
    "even though 10 does not divide 2, giving a contradiction.\n",
    "1. Note that this question was just to entice a reaction after question 2; $k \\equiv 0 \\mod n$ exactly means $n \\mid k$."
   ]
  },
  {
   "cell_type": "markdown",
   "id": "17b6b300-af1d-464b-96d4-35dd4d601d5f",
   "metadata": {
    "jp-MarkdownHeadingCollapsed": true
   },
   "source": [
    "\n",
    "Now, it seems that not every number gets to have an inverse all the time. It seems that for $x$ to have an inverse in $\\mathbb Z /n$, it needs to satisfy\n",
    "$$\n",
    "\\begin{align*}\n",
    "ax \\equiv 1 \\mod n \\iff ax - 1 \\equiv 0 \\mod n\\\\\n",
    "\\text{Which also means}\\ n \\mid ax - 1 \\iff ax - 1 = -bn \\iff ax + bn = 1\n",
    "\\end{align*}\n",
    "$$\n",
    "Now then, notice that it is also sufficient that there be integers $a, b$ that satisfy this relation, as\n",
    "$$\n",
    "1 \\equiv ax + bn \\equiv ax \\mod n\n",
    "$$\n",
    "Then, the problem reduces to finding two integers $a, b$ that satisfy the equation of that form. But what exactly does that equation tell us?"
   ]
  },
  {
   "cell_type": "markdown",
   "id": "6f368b61-2161-4b08-aeca-1c3f2f2faaed",
   "metadata": {},
   "source": [
    "## The Bézout identity\n",
    "For such integers $x$ and $n$, the Bézout identity is of the form $ax + bn = d$ for integers $a, b, d$. You can immediately make the observation that any common divisor of $x$ and $n$ necessarily divides $d$. The fascinating result that we can obtain is that there exists unique $s$ and $t$ such that the following also holds:\n",
    "$$\n",
    "sx + tn = \\gcd(x, n)\n",
    "$$\n",
    "We have seen a bit of the proof already in [computing the GCD through the division algorithm](#the-division-algorithm-and-computing-gcds), namely the fact that we can obtain the gcd through repeated application of the division algorithm\n",
    "$$\n",
    "\\begin{align}\n",
    "a &= q_1b + r_1\\\\\n",
    "b &= q_2r_1 + r_2\\\\\n",
    "r_1 &= q_3r_2 + r_3\\\\\n",
    "&\\dots\\\\\n",
    "r_{n-1} &= q_{n+1}r_n + 0\n",
    "\\end{align}\n",
    "$$\n",
    "Now, notice that each line can be rewritten as follows (we also rename $a := r_{-1}$ and $b := r_0$)\n",
    "$$\n",
    "\\begin{align}\n",
    "r_{-1} - q_1r_0 &= r_1\\\\\n",
    "r_0 - q_2r_1 &= r_2\\\\\n",
    "r_1 - q_3r_2 &= r_3\\\\\n",
    "&\\dots\\\\\n",
    "r_{n-2} - q_nr_{n-1} &= r_n = \\gcd(a, b)\\\\\n",
    "r_{n-1} - q_{n+1}r_n &= 0\n",
    "\\end{align}\n",
    "$$\n",
    "The proof now boils down to a simple proof by induction: we claim that for every $k = -1, \\dots, n-2$, we can form the expression $\\lambda r_{k} + \\gamma r_{k+1} = \\gcd(a,b)$ for some integers $\\lambda, \\gamma$.\n",
    "\n",
    "For $k = n-2$, this is obvious.\n",
    "\n",
    "Suppose it holds for $k$; then, notice that we can make the rewrite\n",
    "$$\n",
    "\\begin{align}\n",
    "\\lambda r_k &+ \\gamma r_{k+1} = \\gcd(a,b)\\\\\n",
    "\\lambda r_k &+ \\gamma (r_{k-1} - q_{k+1}r_k) = \\gcd(a,b)\\\\\n",
    "\\gamma r_{k-1} &+ (\\lambda - q_{k+1})r_k = \\gcd(a,b)\n",
    "\\end{align}\n",
    "$$\n",
    "and we obtain the desired result. One thing to note is that this simplifies the implementation significantly: if we keep track of all the $q_k$s involved in the GCD computation process, we can compute the integer coefficients of the Bézout identity just by applying the transformation\n",
    "$$\n",
    "(\\lambda, \\gamma) \\mapsto (\\gamma, \\lambda - q_k)\n",
    "$$\n",
    "going backwards. (We can start with the expression $0 r_{n+1} + r_n = r_n$, i.e. $(\\lambda, \\gamma) = (0, 1)$.)"
   ]
  },
  {
   "cell_type": "code",
   "execution_count": 3,
   "id": "352bc5e6-8646-4eb6-8d50-abb612e9584d",
   "metadata": {},
   "outputs": [],
   "source": [
    "def pairBezout(x, y):\n",
    "    coef = lambda P, c: (P[1], P[0] - P[1] * c)\n",
    "    maxSorted = x < y\n",
    "    d, factors = extendedGCD(x, y)\n",
    "\n",
    "    # we throw out the last factor as we do not need it for divisibility\n",
    "    factors = factors[::-1][1:]\n",
    "\n",
    "    bezout = (0, 1)\n",
    "    for fac in factors:\n",
    "        bezout = coef(bezout, fac)\n",
    "\n",
    "    if maxSorted:\n",
    "        bezout = (bezout[1], bezout[0])\n",
    "\n",
    "    return bezout\n",
    "\n",
    "def testValidBezout(x, y):\n",
    "    d, _ = extendedGCD(x, y)\n",
    "    p, q = pairBezout(x, y)\n",
    "    left = (p == 0) or (p * x % y == d)\n",
    "    right = (q == 0) or (q * y % x == d)\n",
    "    return all([left, right])\n"
   ]
  },
  {
   "cell_type": "markdown",
   "id": "09e5c4cb-b0c0-462c-9798-e2810d0186d1",
   "metadata": {},
   "source": [
    "We can immediately infer two things:\n",
    "\n",
    "1. $x$ has an inverse in $\\mathbb Z/n$ if and only if $\\gcd (x, n) = 1$, or weakly, for every $y$, there is an $a$ such that $ay \\equiv \\gcd(y, n) \\mod n$,\n",
    "1. Since for every prime number $p$, we have $\\gcd(x, p) = 1$ for $0 \\leq x < p$, every non-zero element of $\\mathbb Z /p$ has an inverse.\n",
    "\n",
    "**Note**: Structures with addition and multiplication defined so that every element has an additive inverse and every non-zero element has a multiplicative inverse, with both operations commutative and multiplication distributive over addition is called a _field_; fields are a natural setting for Linear Algebra!\n",
    "\n",
    "All this note says is that $\\mathbb Z /p$ is a structure that behaves like $\\mathbb Q$, $\\mathbb R$, $\\mathbb C$!"
   ]
  },
  {
   "cell_type": "code",
   "execution_count": 4,
   "id": "901fdc97-60e0-4070-810f-779951836067",
   "metadata": {},
   "outputs": [],
   "source": [
    "def is_prime(n):\n",
    "    from math import sqrt, ceil\n",
    "    # we only need to check whether primes up to faclimit divide n, as some\n",
    "    # factor needs to be smaller than faclimit (can be proven by\n",
    "    # contradiction!) in fact, we can check whether any number in this range\n",
    "    # divides n: this is way more expensive but for small numbers we don't have\n",
    "    # to worry about finding primes inside the range \n",
    "    faclimit = ceil(sqrt(n))\n",
    "\n",
    "    # we can divide the search in half just by testing for 2 and\n",
    "    # limiting ourselves to odd primes\n",
    "    if n % 2 == 0:\n",
    "        return False\n",
    "    for q in range(3, faclimit + 1, 2):\n",
    "        if n % q == 0:\n",
    "            return False\n",
    "\n",
    "    return True\n",
    "\n",
    "# find the closest prime sitting on top of low_seed\n",
    "def generatePrime(low_seed):\n",
    "    candidate = low_seed\n",
    "    while True:\n",
    "        if is_prime(candidate):\n",
    "            return candidate\n",
    "        else:\n",
    "            candidate += 1"
   ]
  },
  {
   "cell_type": "markdown",
   "id": "8958717d-3e0e-4be9-803c-74d2036ee6b0",
   "metadata": {},
   "source": [
    "Given how every non-zero element in $\\mathbb Z /p$ can have an inverse, we can specialize our rings to fields in the case of prime $p$. Play around with the following definition!"
   ]
  },
  {
   "cell_type": "code",
   "execution_count": 5,
   "id": "791246b3-9c5b-45f5-aa57-ca2e64cd9b31",
   "metadata": {},
   "outputs": [],
   "source": [
    "class FiniteField(FiniteIntegerRing):\n",
    "    def __init__(self, p):\n",
    "        if not is_prime(p):\n",
    "            raise ValueError(\"Specified value {} should be prime!\".format(p))\n",
    "        self._n = p\n",
    "        \n",
    "        self._cached = False\n",
    "        if (p < 1000):\n",
    "            self._cached = True\n",
    "            # there's nothing inherently special about any one instance\n",
    "            # of this class, i.e. p = q implies FiniteField(p) = FiniteField(q),\n",
    "            # so it's fine to just cache the multiplicative inverses\n",
    "            self._mult_inv_cache = [-1]\n",
    "            for x in range(1, p+1):\n",
    "                b, _ = pairBezout(x, self._n)\n",
    "                self._mult_inv_cache.append(self.add(b, 0))\n",
    "\n",
    "    def mult_inv(self, a):\n",
    "        if a == 0:\n",
    "            raise ZeroDivisionError\n",
    "\n",
    "        if self._cached:\n",
    "            # we cached the results!\n",
    "            return self._mult_inv_cache[self.id(a)]\n",
    "        else:\n",
    "            b, _ = pairBezout(a, self._n)\n",
    "            return self.add(b, 0)\n",
    "\n",
    "    def div(self, a, b):\n",
    "        return self.mult(a, self.mult_inv(b))\n"
   ]
  },
  {
   "cell_type": "markdown",
   "id": "97bbd7fe-5ebf-4b18-ad5c-89b35b99555b",
   "metadata": {},
   "source": [
    "# RSA Cryptography"
   ]
  },
  {
   "cell_type": "raw",
   "id": "d654175b-ff41-4349-8bde-5410c299b2b3",
   "metadata": {},
   "source": [
    "How about Mersenne primes as a bit of trivia?"
   ]
  },
  {
   "cell_type": "markdown",
   "id": "bccdc722-30d7-4630-a05f-2922b57d0b18",
   "metadata": {},
   "source": [
    "## Euler's Theorem\n",
    "\n",
    ">**Theorem**: For coprime integers $a$ and $n$, $a^{\\varphi(n)} \\equiv 1 \\mod n$.\n",
    "\n",
    "*Proof*: $\\varphi(n)$ denotes the number of integers $0 < x < n$ with $\\gcd(x, n) = 1$, or equivalently, the number of invertible elements in the ring $\\mathbb Z/n$. The set of all invertible elements in $\\mathbb Z/n$ is denoted as ${\\mathbb Z/n}^\\times$. Notice that $1\\in {\\mathbb Z/n}^\\times$ and for any two elements $x, y$ in this set, their product $xy$ is in the set as well.\n",
    "\n",
    "There are only finitely many elements in this set, and so for some $k \\in \\mathbb N$, $a^k \\equiv 1 \\mod n$. There is a smallest such number, and so we can assume that it is $k$.\n",
    "\n",
    "Now, for every $x\\in {\\mathbb Z/n}^\\times$, consider the sets\n",
    "$$\n",
    "xA := \\{ xa^m \\mid m \\in \\mathbb N \\}\n",
    "$$\n",
    "Now, for $x, y \\in {\\mathbb Z/n}^\\times$, either $xA \\cap yA = \\emptyset$ or $xA\\cap yA \\neq \\emptyset$. If the latter holds, for some $g$, we have $g \\equiv xa^m \\equiv ya^l \\mod n$, and so $x \\equiv ya^{l-m} \\mod n$, meaning $xA \\subset yA$, and also $y \\equiv xa^{m-l} \\mod n$, meaning $yA \\subset xA$, and so the only two choices for elements $x, y$ is either $xA \\cap yA = \\emptyset$ or $xA = yA$. Then, the sets $xA$ partition ${\\mathbb Z/n}^\\times$.\n",
    "\n",
    "Finally, for each $xA$, notice that it has exactly $k$ elements: $x1, xa, \\dots, xa^{k-1}$, for if there were any fewer, it implies $xa^m \\equiv xa^l$ for distinct $0 < m \\neq l < k$ and $a^{m-l} \\equiv 1 \\mod n$, which contradicts that $k$ is the smallest such number.\n",
    "\n",
    "Thus, ${\\mathbb Z/n}^\\times$ consists of sets $xA$, each of which has $k$ elements, i.e. $k \\mid \\varphi(n)$, i.e. $\\varphi(n) = kM$ for some $M$ and so\n",
    "$$\n",
    "a^{\\varphi(n)} \\equiv a^{kM} \\equiv (a^k)^M \\equiv 1^M \\equiv 1 \\mod n\n",
    "$$"
   ]
  },
  {
   "cell_type": "markdown",
   "id": "49679567-d3ed-4b24-871d-8817eb20d0e5",
   "metadata": {},
   "source": [
    "## The Chinese Remainder Theorem\n",
    ">**Theorem**: Let $m, n$ be coprime numbers. For every system\n",
    ">$$\n",
    "\\begin{align*}\n",
    "x &\\equiv a_1 \\mod m\\\\\n",
    "x &\\equiv a_2 \\mod n\n",
    "\\end{align*}\n",
    "$$\n",
    "there is a unique solution $0 \\leq x < mn$.\n",
    "\n",
    "For practical purposes, this means that instead of doing our computations in $\\mathbb Z/mn$, which could be a pretty big ring, we can instead do two computations in $\\mathbb Z/m$ and $\\mathbb Z/n$ and combine the results using the method in the proof, yielding a much more manageable process.\n",
    "\n",
    "*Proof of theorem*: Note that every $x\\in \\mathbb Z /mn$ is a solution of some system; just take the modulo in each system.\n",
    "\n",
    "Note that a desired $x$ would have the following forms:\n",
    "$$\n",
    "\\begin{align*}\n",
    "x &= q_1m + a_1\\\\\n",
    "x &= q_2n + a_2\n",
    "\\end{align*}\n",
    "$$\n",
    "and so, if we were able to recover either $q_1$ or $q_2$, we could reconstruct $x$.\n",
    "\n",
    "Now, since $m$ and $n$ are coprime, they have the Bézout identity $\\alpha m + \\beta n = 1$ for $\\alpha, \\beta \\in \\mathbb Z$. With this information, define\n",
    "$$\n",
    "x := \\beta n (a_1 - a_2) + a_2\n",
    "$$\n",
    "Notice then\n",
    "$$\n",
    "\\begin{align*}\n",
    "x &\\equiv n \\beta (a_1 - a_2) + a_2 \\equiv a_2 \\mod n\\\\\n",
    "x &\\equiv n \\beta (a_1 - a_2) + a_2 \\equiv (n\\beta + m\\alpha)(a_1 - a_2) + a_2 \\equiv a_1 - a_2 + a_2 \\equiv a_1 \\mod m\\\\\n",
    "\\end{align*}\n",
    "$$\n",
    "\n",
    "Note that this immediately implies that for coprime $m$ and $n$, $\\varphi(mn) = \\varphi(m)\\varphi(n)$, as the full implication shows that $\\mathbb Z/mn \\cong \\mathbb Z/m \\oplus \\mathbb Z/n$ (it's completely fine if you don't know what this means, it'll suffice to use the result)"
   ]
  },
  {
   "cell_type": "markdown",
   "id": "250b4f80-989a-4249-a8ae-4a04c6181ab9",
   "metadata": {},
   "source": [
    "## The math behind RSA\n",
    "For two prime numbers $p$ and $q$, we can form their product $n = pq$. For any integer $0 \\leq m < n$, by Euler's theorem, we have:\n",
    "$$\n",
    "\\begin{align*}\n",
    "m(m^{\\varphi(p)} - 1) \\equiv 0 \\mod p\\\\\n",
    "m(m^{\\varphi(q)} - 1) \\equiv 0 \\mod q\\\\\n",
    "\\end{align*}\n",
    "$$\n",
    "(these contain the cases when $p \\mid m$ or $q\\mid m$).\n",
    "\n",
    "Now, if we were to find some $e$ which is coprime to $\\varphi(n)$, and solve for its Bézout identity\n",
    "$$\n",
    "de + l\\varphi(n) = 1\n",
    "$$\n",
    "we get $d$ which satisfies $m^{ed} - m \\equiv m^{ed+l\\varphi(n)} - m \\equiv m^{ed}m^{\\varphi(p)\\gamma} - m \\equiv m^{ed-1}m(m^{\\varphi(p)\\gamma} - 1) \\equiv 0 \\mod p$\n",
    "and since $p$ and $q$ are both prime, we have that $\\varphi(p) = p-1, \\varphi(q) = q-1$ and $\\varphi(n) = \\varphi(p)\\varphi(q)$."
   ]
  },
  {
   "cell_type": "markdown",
   "id": "cbf379fe-f344-4a3a-9c51-9661931109a9",
   "metadata": {},
   "source": []
  },
  {
   "cell_type": "markdown",
   "id": "7c206777-1f4e-4950-a93a-c0693a450442",
   "metadata": {},
   "source": [
    "## The Chinese Remainder theorem"
   ]
  },
  {
   "cell_type": "code",
   "execution_count": 6,
   "id": "beeeeaa0-624a-4a2d-876f-402805bdc672",
   "metadata": {},
   "outputs": [],
   "source": [
    "class RSAKey:\n",
    "    def __init__(self, n, e):\n",
    "        self._n = n\n",
    "        self._key = e\n",
    "\n",
    "        self._ring = FiniteIntegerRing(n)\n",
    "\n",
    "    def encrypt(self, message):\n",
    "        return self._ring.pow(message, self._key)\n",
    "\n",
    "class RSASecretKey(RSAKey):\n",
    "    def __init__(self, n, d, p, q):\n",
    "        RSAKey.__init__(self, n, d)\n",
    "        self._p = p\n",
    "        self._q = q\n",
    "\n",
    "        self._dp = d % (p - 1)\n",
    "        self._dq = d % (q - 1)\n",
    "        \n",
    "        self._fp = FiniteField(p)\n",
    "        self._fq = FiniteField(q)\n",
    "\n",
    "    def decrypt(self, ciphertext):\n",
    "        m1 = self._fp.pow(ciphertext, self._dp)\n",
    "        m2 = self._fq.pow(ciphertext, self._dq)\n",
    "        h = self._fp.mult(self._fp.mult_inv(self._q), m1 - m2)\n",
    "\n",
    "        return m2 + h * q"
   ]
  },
  {
   "cell_type": "code",
   "execution_count": 7,
   "id": "81135fd5-6e09-4a84-9d6e-a1b8e4089b37",
   "metadata": {},
   "outputs": [],
   "source": [
    "def generateRSAKeyPair(p, q) -> (RSAKey, RSASecretKey):\n",
    "    from math import lcm, gcd\n",
    "    from numpy.random import choice\n",
    "    n = p * q\n",
    "    totient = lcm(p-1, q-1)\n",
    "\n",
    "    # hardcoded limit; do it differently!\n",
    "    coprimes = [x for x in range(2, min(totient, 1000))\n",
    "                if gcd(x, totient) == 1]\n",
    "\n",
    "    e = choice(coprimes)\n",
    "    d, _ = pairBezout(e, totient)\n",
    "    # getting rid of the negative\n",
    "    d = d + totient\n",
    "\n",
    "    pub = RSAKey(n, e)\n",
    "    sec = RSASecretKey(n, d, p, q)\n",
    "    return (pub, sec)"
   ]
  },
  {
   "cell_type": "markdown",
   "id": "f63f6433-402b-4ef9-a603-cb5d07f80a7a",
   "metadata": {},
   "source": [
    "Let's encrypt a message and send it to ourselves :)\n",
    "\n",
    "We generate primes in the range of $[768, 1024]$ so that we have somewhat large primes to work on without the computation taking ages."
   ]
  },
  {
   "cell_type": "code",
   "execution_count": 8,
   "id": "f3f8b5d1-4cfb-4473-ab5c-884c6c138f66",
   "metadata": {},
   "outputs": [
    {
     "name": "stdout",
     "output_type": "stream",
     "text": [
      "90887 111827\n"
     ]
    }
   ],
   "source": [
    "from numpy.random import randint\n",
    "p = generatePrime(randint(2**16, 2**17))\n",
    "q = generatePrime(randint(2**16, 2**17))\n",
    "print(p, q)\n",
    "\n",
    "pub, sec = generateRSAKeyPair(p, q)"
   ]
  },
  {
   "cell_type": "code",
   "execution_count": 9,
   "id": "22a1c8ce-a167-49fc-adc9-1af1bc6d7f8f",
   "metadata": {},
   "outputs": [
    {
     "name": "stdout",
     "output_type": "stream",
     "text": [
      "0x1b17d6fb\n"
     ]
    }
   ],
   "source": [
    "message = 0xbeef\n",
    "ciphertext = pub.encrypt(message)\n",
    "print(hex(ciphertext))"
   ]
  },
  {
   "cell_type": "code",
   "execution_count": 10,
   "id": "4d863a17-670c-4f8f-846b-54d006526684",
   "metadata": {},
   "outputs": [
    {
     "name": "stdout",
     "output_type": "stream",
     "text": [
      "0xbeef\n"
     ]
    }
   ],
   "source": [
    "decrypted_message = sec.decrypt(ciphertext)\n",
    "print(hex(decrypted_message))"
   ]
  },
  {
   "cell_type": "code",
   "execution_count": 11,
   "id": "da15eae6-b548-410b-badb-b71015a80d2f",
   "metadata": {},
   "outputs": [
    {
     "data": {
      "text/plain": [
       "33"
      ]
     },
     "execution_count": 11,
     "metadata": {},
     "output_type": "execute_result"
    }
   ],
   "source": [
    "from math import log\n",
    "# a given n can uniquely encode log_2(n) bits of information\n",
    "int(log(p * q, 2))"
   ]
  },
  {
   "cell_type": "markdown",
   "id": "053e464a-84ce-485d-9224-9d6caff1bb6b",
   "metadata": {},
   "source": [
    "# Elliptic-curve Cryptography"
   ]
  },
  {
   "cell_type": "code",
   "execution_count": 21,
   "id": "da4f1203-1bf1-4bbf-b54f-3eaabb35c0d9",
   "metadata": {},
   "outputs": [],
   "source": [
    "class Point:\n",
    "    def __init__(self, x, y, is_infinity=False):\n",
    "        if is_infinity:\n",
    "            self.is_infinity = True\n",
    "            self.x = 0\n",
    "            self.y = 0\n",
    "        else:\n",
    "            self.is_infinity = False\n",
    "            self.x = x\n",
    "            self.y = y\n",
    "            \n",
    "    def tuple(self):\n",
    "        return (self.x, self.y)\n",
    "\n",
    "    def inf():\n",
    "        return Point(0,0,is_infinity=True)\n",
    "\n",
    "\n",
    "class Curve:\n",
    "    def __init__(self, p, a, b):\n",
    "        self.p = p\n",
    "        self.a = a\n",
    "        self.b = b\n",
    "        self.field = FiniteField(p)\n",
    "        self.curve = lambda pt: self.field.sub(self.field.pow(pt.y,2), \n",
    "                                               self.field.pow(pt.x,3) + self.field.mult(a,pt.x) + b\n",
    "                                              )\n",
    "\n",
    "\n",
    "    def add(self, p: Point, q: Point) -> Point:\n",
    "        f = self.field\n",
    "        if p.is_infinity:\n",
    "            return q\n",
    "        if q.is_infinity:\n",
    "            return p\n",
    "            \n",
    "        lmb = 0\n",
    "        x1, y1 = p.tuple()\n",
    "        x2, y2 = q.tuple()\n",
    "        \n",
    "        if x1 == x2 and f.add(y1, y2) == 0:\n",
    "            return Point.inf()\n",
    "            \n",
    "        if x1 != x2 or y1 != y2:\n",
    "            lmb = (y2-y1) * f.mult_inv(x2 - x1)\n",
    "        else:\n",
    "            lmb = (3 * (x1 ** 2) + self.a) * f.mult_inv(2 * y1)\n",
    "    \n",
    "    \n",
    "        x3 = f.sub((lmb ** 2), x1+x2)\n",
    "        y3 = f.sub(lmb * (x1-x3), y1)\n",
    "    \n",
    "    \n",
    "        return Point(x3, y3, False)\n"
   ]
  },
  {
   "cell_type": "code",
   "execution_count": 13,
   "id": "2c6b31dc-712f-4279-a23c-802651642e6c",
   "metadata": {},
   "outputs": [],
   "source": [
    "a = 497\n",
    "b = 1768\n",
    "p = 9739"
   ]
  },
  {
   "cell_type": "code",
   "execution_count": 14,
   "id": "8c4d2be4-f7b5-4382-bf7a-e1ea39f189e2",
   "metadata": {},
   "outputs": [
    {
     "data": {
      "text/plain": [
       "(416, 2415)"
      ]
     },
     "execution_count": 14,
     "metadata": {},
     "output_type": "execute_result"
    }
   ],
   "source": [
    "P = Point(493, 5564)\n",
    "Q = Point(1539, 4742)\n",
    "R = Point(4403, 5202)\n",
    "\n",
    "terms = [P, P, Q, R]\n",
    "curve = Curve(p, a, b)\n",
    "\n",
    "total = Point.inf()\n",
    "for term in terms:\n",
    "    total = curve.add(total, term)\n",
    "\n",
    "total.tuple()\n"
   ]
  },
  {
   "cell_type": "code",
   "execution_count": null,
   "id": "4d54ca8c-c082-42df-9f20-aca9fe5a4e3d",
   "metadata": {},
   "outputs": [],
   "source": []
  },
  {
   "cell_type": "code",
   "execution_count": 20,
   "id": "cd1715f5-5b95-4b4b-89cb-fc809175412e",
   "metadata": {},
   "outputs": [
    {
     "name": "stdout",
     "output_type": "stream",
     "text": [
      "add: crypto{4215,2162}\n"
     ]
    }
   ],
   "source": [
    "from Crypto.Util.number import inverse\n",
    "\n",
    "\n",
    "def pt_add(p, q, E):\n",
    "    zero = (0, 0)\n",
    "    if p == zero:\n",
    "        return q\n",
    "    elif q == zero:\n",
    "        return p\n",
    "    else:\n",
    "        x1, y1 = p\n",
    "        x2, y2 = q\n",
    "        if x1 == x2 and y1 == -y2:\n",
    "            return zero\n",
    "\n",
    "        Ea, Ep = E['a'], E['p']\n",
    "        if p != q:\n",
    "            lmd = (y2 - y1) * inverse(x2 - x1, Ep)\n",
    "        else:\n",
    "            lmd = (3 * (x1**2) + Ea) * inverse(2 * y1, Ep)\n",
    "        x3 = ((lmd**2) - x1 - x2) % Ep\n",
    "        y3 = (lmd * (x1 - x3) - y1) % Ep\n",
    "        return x3, y3\n",
    "\n",
    "\n",
    "# expect to create a module of helper functions in this file\n",
    "if __name__ == '__main__':\n",
    "    E = {'a': 497, 'b': 1768, 'p': 9739}\n",
    "\n",
    "    x = (5274, 2841)\n",
    "    y = (8669, 740)\n",
    "    assert pt_add(x, y, E) == (1024, 4440)\n",
    "    assert pt_add(x, x, E) == (7284, 2107)\n",
    "\n",
    "    p = (493, 5564)\n",
    "    q = (1539, 4742)\n",
    "    r = (4403, 5202)\n",
    "    fgh = pt_add((0,0), p, E)\n",
    "    s = pt_add(fgh, p, E)\n",
    "    t = pt_add(s, q, E)\n",
    "    add_flag = pt_add(t, r, E)\n",
    "    assert add_flag == (4215, 2162)\n",
    "    print('add: ' + 'crypto{' + str(add_flag[0]) + ',' + str(add_flag[1]) + '}')"
   ]
  }
 ],
 "metadata": {
  "kernelspec": {
   "display_name": "Python 3 (ipykernel)",
   "language": "python",
   "name": "python3"
  },
  "language_info": {
   "codemirror_mode": {
    "name": "ipython",
    "version": 3
   },
   "file_extension": ".py",
   "mimetype": "text/x-python",
   "name": "python",
   "nbconvert_exporter": "python",
   "pygments_lexer": "ipython3",
   "version": "3.12.4"
  }
 },
 "nbformat": 4,
 "nbformat_minor": 5
}
